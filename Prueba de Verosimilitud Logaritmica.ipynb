{
 "cells": [
  {
   "cell_type": "markdown",
   "metadata": {},
   "source": [
    "# Prueba de Verosimilitud Logarítmica\n",
    "\n",
    "En este cuaderno se realizará la implementación de una prueba de verosimilitud logarítmica orientada a generar resúmenes.\n",
    "\n",
    "Para la implementación de esta técnica, se realizarán las siguientes fases:\n",
    "\n",
    "1. Cargar datos.\n",
    "2. Aplicar el preprocesamiento al nuevo corpus.\n",
    "3. Crear diccionarios para relacionar frases e identificadores \n",
    "4. Calcular matriz de verosimilitud logarítmica\n",
    "5. Determinar umbral (Determinar topic signatures).\n",
    "6. Ajustar topic signatures a un solo texto.\n",
    "7. Seleccionar frases\n",
    "8. Evaluar el resumen obtenido"
   ]
  },
  {
   "cell_type": "code",
   "execution_count": 1,
   "metadata": {},
   "outputs": [],
   "source": [
    "#Importar elementos necesarios de las librerías\n",
    "import os, shutil, re, pickle\n",
    "import numpy as np\n",
    "import pandas as pd\n",
    "import matplotlib.pyplot as plt\n",
    "from rouge import Rouge\n",
    "from nltk.corpus import PlaintextCorpusReader\n",
    "from nltk.stem.snowball import SpanishStemmer\n",
    "from scipy.stats import binom, chi2\n",
    "from sklearn.feature_extraction.text import CountVectorizer\n",
    "from scipy.sparse import csr_matrix"
   ]
  },
  {
   "cell_type": "code",
   "execution_count": 2,
   "metadata": {},
   "outputs": [],
   "source": [
    "#Funciones auxiliares\n",
    "\n",
    "def tokenize_sentence(path, file_name):\n",
    "    #Retorna un documento tokenizado por frases\n",
    "    doc = []\n",
    "    text = PlaintextCorpusReader(path, file_name)\n",
    "    paragraphs = text.paras()\n",
    "    for paragraph in paragraphs:\n",
    "        for sentence in paragraph:\n",
    "            low, i = 0,0\n",
    "            while i < len(sentence):\n",
    "                token = sentence[i].split('.')\n",
    "                if len(token)-1:\n",
    "                    doc.append(sentence[low:i])\n",
    "                    low=i+1\n",
    "                    i+=2\n",
    "                else:\n",
    "                    i+=1\n",
    "            if low!=i-1:\n",
    "                doc.append(sentence[low:i])\n",
    "    return doc\n",
    "\n",
    "def preprocess(doc, stopwords, stemmer):\n",
    "    #Aplica el preprocesamiento establecido\n",
    "    #Adicionalmente, retorna el documento original sin las filas vacías por el preprocesamiento \n",
    "    doc_preprocesed, doc_reduced = [], []\n",
    "    for original_sentence in doc:\n",
    "        preprocessed_sentence = []\n",
    "        for token in original_sentence:\n",
    "            if stemmer.stem(token) not in stopwords:\n",
    "                preprocessed_sentence.append(stemmer.stem(token))\n",
    "        if len(preprocessed_sentence) and preprocessed_sentence not in doc_preprocesed:\n",
    "            doc_preprocesed.append(preprocessed_sentence)\n",
    "            doc_reduced.append(original_sentence)\n",
    "    return doc_preprocesed, doc_reduced\n",
    "\n",
    "def get_dictionaries(doc):\n",
    "    #Retorna un par de diccionarios que relacionan una frase con un id, y un id con una frase.\n",
    "    sentence2id, id2sentence = {},{}\n",
    "    n_sentences = len(doc)\n",
    "    for i in range(n_sentences):\n",
    "        sentence = ' '.join(doc[i])\n",
    "        if sentence not in sentence2id:\n",
    "            sentence2id[sentence] = i\n",
    "            id2sentence[i] = sentence\n",
    "    return sentence2id, id2sentence\n",
    "\n",
    "def reverse_dict(dictionary):\n",
    "    #Invierte el sentido de un diccionario\n",
    "    reverse = {}\n",
    "    for k,v in dictionary.items():\n",
    "        reverse[v] = k\n",
    "    return reverse\n",
    "\n",
    "def log_likelihood_ratio(bag_of_words):\n",
    "    #Calcula la matriz -2 lambda\n",
    "    tokens_per_document = bag_of_words.sum(1)\n",
    "    ocurrences = bag_of_words.sum(0)\n",
    "    total_tokens = bag_of_words.sum(0).sum(1)[0,0]\n",
    "    n_documents,m_tokens = bag_of_words.shape\n",
    "    loglikelihood_general = []\n",
    "    for i in range(m_tokens):\n",
    "        ocurrences_general = ocurrences[0,i]\n",
    "        loglikelihood = binom.pmf(ocurrences_general, total_tokens,ocurrences_general/total_tokens)\n",
    "        loglikelihood_general.append(loglikelihood)\n",
    "    data = []\n",
    "    for i in range(n_documents):\n",
    "        row = []\n",
    "        tokens_input = tokens_per_document[i,0]\n",
    "        tokens_background = total_tokens - tokens_input\n",
    "        for j in range(m_tokens):\n",
    "            ocurrences_total = ocurrences[0,j]\n",
    "            ocurrences_input = bag_of_words[i,j]\n",
    "            ocurrences_background = ocurrences_total - ocurrences_input\n",
    "            loglikelihood_input = binom.pmf(ocurrences_input, tokens_input, ocurrences_input/tokens_input)\n",
    "            loglikelihood_background = binom.pmf(ocurrences_background, tokens_background, ocurrences_background/tokens_background)\n",
    "            ratio = loglikelihood_general[j]/(loglikelihood_input*loglikelihood_background)\n",
    "            row.append(ratio)\n",
    "        data.append(row)\n",
    "    lambda_matrix = np.array(data,dtype=np.float64)\n",
    "    lambda_log_matrix = np.log(data)\n",
    "    lambda_matrix_2 = lambda_matrix*-2\n",
    "    lambda_log_matrix_2 = lambda_log_matrix*-2\n",
    "    return lambda_matrix, lambda_log_matrix, lambda_matrix_2, lambda_log_matrix_2\n",
    "    #Corregir posteriormente para solo retornar una de estas\n",
    "\n",
    "def corpus_topic_signatures(log_likelihood_matrix, treshold):\n",
    "    #Crea una matriz con los topic signatures a partir de la matriz -2lambda y el umbral\n",
    "    data, col_index, row_index = [],[],[]\n",
    "    n_documents, m_tokens = log_likelihood_matrix.shape\n",
    "    for i in range(n_documents):\n",
    "        for j in range(m_tokens):\n",
    "            if log_likelihood_matrix[i,j] >= treshold:\n",
    "                row_index.append(i)\n",
    "                col_index.append(j)\n",
    "                data.append(1)\n",
    "    data = np.array(data)\n",
    "    row_index = np.array(row_index)\n",
    "    col_index = np.array(col_index)\n",
    "    topic_signatures = csr_matrix((data,(row_index,col_index)),shape=(n_documents, m_tokens),dtype=np.float64)\n",
    "    return topic_signatures\n",
    "\n",
    "def document_topic_signatures(document, topic_signatures, token2id, doc_id):\n",
    "    #Construye una matriz de un solo documento de acuerdo a la matriz de topic signatures \n",
    "    data,row_index,col_index = [],[],[]\n",
    "    topic_signatures = topic_signatures.toarray()\n",
    "    n_sentences, m_tokens = len(document), len(token2id)\n",
    "    for i in range(n_sentences):\n",
    "        sentence = document[i]\n",
    "        j = 0\n",
    "        for token in sentence:\n",
    "            if token in token2id and topic_signatures[doc_id,token2id[token]] == 1:\n",
    "                if (j==0) or (j>0 and token2id[token] not in col_index[-j:]):\n",
    "                    topic_signature_value = topic_signatures[doc_id,token2id[token]]\n",
    "                    data.append(topic_signature_value)\n",
    "                    row_index.append(i)\n",
    "                    col_index.append(token2id[token])\n",
    "                    j+=1\n",
    "    data = np.array(data)\n",
    "    row_index = np.array(row_index)\n",
    "    col_index = np.array(col_index)\n",
    "    topic_signatures_document = csr_matrix((data,(row_index,col_index)),shape=(n_sentences, m_tokens),dtype=np.float64)\n",
    "    return topic_signatures_document\n",
    "\n",
    "def generate_summary(topic_signatures, n_sentences, sentence2id):\n",
    "    #Genera un resumen con un total de n_sentences frases\n",
    "    total_sentences = topic_signatures.shape[0]\n",
    "    assert n_sentences < total_sentences\n",
    "    topic_signatures = topic_signatures.toarray().sum(1)\n",
    "    df = pd.DataFrame(topic_signatures,columns = ['topic signatures'])\n",
    "    df['sentence'] = sentence2id.keys()\n",
    "    df = df.sort_values(by='topic signatures', ascending = False)\n",
    "    summary = []\n",
    "    i,flag=0,1\n",
    "    while i < n_sentences and flag:\n",
    "        sentence = df.iloc[i]['sentence']\n",
    "        flag = df.iloc[i]['topic signatures']\n",
    "        if flag:\n",
    "            summary.append(sentence)\n",
    "        i+=1\n",
    "    assert summary != []\n",
    "    return summary, df\n",
    "\n",
    "def read_reference(path, filename):\n",
    "    text = PlaintextCorpusReader(path, filename)\n",
    "    text = text.paras()\n",
    "    flat = []\n",
    "    for sentences in text:\n",
    "        for sentence in sentences:\n",
    "            flat_sentence = ' '.join(sentence)\n",
    "            flat.append(flat_sentence)\n",
    "    reference = ' '.join(flat)\n",
    "    return reference"
   ]
  },
  {
   "cell_type": "markdown",
   "metadata": {},
   "source": [
    "## Fase 1. Cargar datos"
   ]
  },
  {
   "cell_type": "code",
   "execution_count": 3,
   "metadata": {},
   "outputs": [],
   "source": [
    "#Cargar las stopwords obtenido en preprocesamiento.\n",
    "filename = 'stopwords.pkl'\n",
    "stopwords = pickle.load(open(filename, 'rb'))\n",
    "\n",
    "#Carga el corpus usado para el preprocesamiento\n",
    "filename = 'corpus_single_string.pkl'\n",
    "corpus_single_string = pickle.load(open(filename, 'rb'))"
   ]
  },
  {
   "cell_type": "markdown",
   "metadata": {},
   "source": [
    "## Fase 2. Aplicar preprocesamiento\n",
    "### Tokenización por frases"
   ]
  },
  {
   "cell_type": "code",
   "execution_count": 4,
   "metadata": {},
   "outputs": [],
   "source": [
    "ruta = \"D:/Documents/Documentos Universidad/Noveno/Proyecto de grado/textos\"\n",
    "stemmer = SpanishStemmer()\n",
    "\n",
    "corpus = []\n",
    "\n",
    "referencias = ['azure-pagos.txt','chrome-privacidad.txt','colboletos.txt','gdo-privacidad.txt',\n",
    "               'mozilla-privacidad.txt','nintendo-condiciones.txt','netflix-condiciones.txt',\n",
    "               'segurosbolivar-privacidad.txt','whatsApp-privacidad.txt']\n",
    "n_referencias = len(referencias)\n",
    "\n",
    "for doc in referencias:\n",
    "    documento = tokenize_sentence(ruta, doc)\n",
    "    corpus.append(documento)\n",
    "\n",
    "#bolivar = tokenize_sentence(ruta, 'segurosbolivar-privacidad.txt')\n",
    "#mozilla = tokenize_sentence(ruta, 'mozilla-privacidad.txt')"
   ]
  },
  {
   "cell_type": "markdown",
   "metadata": {},
   "source": [
    "### Stopwords y Stemming"
   ]
  },
  {
   "cell_type": "code",
   "execution_count": 5,
   "metadata": {},
   "outputs": [],
   "source": [
    "corpus_preprocesado = []\n",
    "for i in range(n_referencias):\n",
    "    doc_preprocesado, corpus[i] = preprocess(corpus[i], stopwords, stemmer)\n",
    "    corpus_preprocesado.append(doc_preprocesado)\n",
    "    \n",
    "#bolivar_preprocesado, bolivar = preprocess(bolivar, stopwords, stemmer)\n",
    "#mozilla_preprocesado, mozilla = preprocess(mozilla, stopwords, stemmer)"
   ]
  },
  {
   "cell_type": "markdown",
   "metadata": {},
   "source": [
    "## Fase 3. Crear diccionarios para relacionar frases e identificadores "
   ]
  },
  {
   "cell_type": "code",
   "execution_count": 6,
   "metadata": {},
   "outputs": [],
   "source": [
    "frase2id, id2frase = [],[]\n",
    "\n",
    "for i in range(n_referencias):\n",
    "    f2id, id2f = get_dictionaries(corpus[i])\n",
    "    frase2id.append(f2id)\n",
    "    id2frase.append(id2f)\n",
    "\n",
    "#frase2id_bolivar, id2frase_bolivar = get_dictionaries(bolivar)\n",
    "#frase2id_mozilla, id2frase_mozilla = get_dictionaries(mozilla)"
   ]
  },
  {
   "cell_type": "markdown",
   "metadata": {},
   "source": [
    "## Fase 4. Calcular matriz de verosimilitud logarítmica"
   ]
  },
  {
   "cell_type": "code",
   "execution_count": 7,
   "metadata": {},
   "outputs": [],
   "source": [
    "vectorizer = CountVectorizer(stop_words = stopwords)\n",
    "\n",
    "bag_of_words = vectorizer.fit_transform(corpus_single_string)\n",
    "\n",
    "#Diccionario que relaciona tokens con un identificador único\n",
    "token2id = vectorizer.vocabulary_\n",
    "\n",
    "#Diccionario que un identificador con un token\n",
    "id2token = reverse_dict(token2id)\n",
    "\n",
    "#bag_of_words = vectorizer.fit_transform(corpus)"
   ]
  },
  {
   "cell_type": "code",
   "execution_count": 8,
   "metadata": {},
   "outputs": [],
   "source": [
    "lambda_matrix, lambda_log_matrix, lambda_matrix_2, lambda_log_matrix_2 = log_likelihood_ratio(bag_of_words)\n",
    "\n",
    "#log_likelihood, general, ocurrences = log_likelihood_ratio(bag_of_words)\n",
    "#log_likelihood\n",
    "#Pruebas\n",
    "#general[token2id['acced']]"
   ]
  },
  {
   "cell_type": "code",
   "execution_count": 9,
   "metadata": {},
   "outputs": [
    {
     "data": {
      "text/plain": [
       "3.6763415495439085"
      ]
     },
     "execution_count": 9,
     "metadata": {},
     "output_type": "execute_result"
    }
   ],
   "source": [
    "#Sin multiplicar por -2 (Pruebas)\n",
    "lambda_matrix[38,token2id['acced']]"
   ]
  },
  {
   "cell_type": "code",
   "execution_count": 10,
   "metadata": {},
   "outputs": [
    {
     "data": {
      "text/plain": [
       "3.6763415495439085"
      ]
     },
     "execution_count": 10,
     "metadata": {},
     "output_type": "execute_result"
    }
   ],
   "source": [
    "#Multiplicando por -2 (Pruebas)\n",
    "lambda_matrix[38,token2id['acced']]"
   ]
  },
  {
   "cell_type": "code",
   "execution_count": 11,
   "metadata": {},
   "outputs": [
    {
     "data": {
      "text/plain": [
       "(56, 4740)"
      ]
     },
     "execution_count": 11,
     "metadata": {},
     "output_type": "execute_result"
    }
   ],
   "source": [
    "lambda_matrix.shape"
   ]
  },
  {
   "cell_type": "markdown",
   "metadata": {},
   "source": [
    "## Fase 5. Determinar umbral (Determinar topic signatures). "
   ]
  },
  {
   "cell_type": "code",
   "execution_count": 12,
   "metadata": {},
   "outputs": [],
   "source": [
    "umbrales = [5.0239,6.6349,7.8794,10.8276]\n",
    "\n",
    "topic_signatures_umbrales = []\n",
    "\n",
    "for umbral in umbrales:\n",
    "    topic_signatures = corpus_topic_signatures(lambda_matrix,umbral)\n",
    "    topic_signatures_umbrales.append(topic_signatures)\n",
    "\n",
    "#topic_signatures_0_025 = corpus_topic_signatures(lambda_matrix,5.0239)\n",
    "#topic_signatures_0_010 = corpus_topic_signatures(lambda_matrix,6.6349)\n",
    "#topic_signatures_0_005 = corpus_topic_signatures(lambda_matrix,7.8794)\n",
    "#topic_signatures_0_001 = corpus_topic_signatures(lambda_matrix,10.8276)\n",
    "\n",
    "\n",
    "#topic_signatures_0_025.toarray()"
   ]
  },
  {
   "cell_type": "code",
   "execution_count": 13,
   "metadata": {},
   "outputs": [],
   "source": [
    "#topic_signatures_0_025.shape"
   ]
  },
  {
   "cell_type": "markdown",
   "metadata": {},
   "source": [
    "### Comprobar cantidad de topic signatures encontradas dentro del corpus"
   ]
  },
  {
   "cell_type": "code",
   "execution_count": 14,
   "metadata": {},
   "outputs": [
    {
     "name": "stdout",
     "output_type": "stream",
     "text": [
      "umbral:  5.0239\n",
      "[230. 158. 108. 143. 148.  56. 142. 440. 220. 147.  36.  29. 114. 131.\n",
      " 166. 102. 118. 136.  14.  10. 109. 228. 136. 135. 189.  18.  79. 158.\n",
      "  97.  49.  64. 205. 156.  94. 149. 327. 204. 101.  29. 264. 154. 261.\n",
      " 148.  44. 180. 171. 126. 112.  41. 262. 198. 214. 182. 134. 105. 193.]\n",
      "\n",
      "umbral:  6.6349\n",
      "[110.  85.  48.  76.  80.  21.  53. 278. 114.  68.  12.   6.  60.  68.\n",
      "  80.  51.  63.  66.   3.   4.  41. 110.  58.  71. 106.   2.  41.  80.\n",
      "  43.  23.  25. 111.  86.  37.  71. 183.  96.  43.   8. 152.  78. 149.\n",
      "  72.  20.  81.  67.  53.  48.  14. 147. 118. 109.  99.  65.  56. 105.]\n",
      "\n",
      "umbral:  7.8794\n",
      "[ 65.  50.  31.  47.  50.  10.  29. 199.  74.  40.   6.   3.  37.  49.\n",
      "  51.  23.  43.  42.   2.   1.  23.  84.  32.  43.  71.   2.  20.  52.\n",
      "  25.  16.  16.  71.  57.  24.  41. 117.  56.  25.   3. 103.  47.  89.\n",
      "  41.  13.  51.  33.  31.  30.   8. 104.  80.  70.  69.  41.  34.  68.]\n",
      "\n",
      "umbral:  10.8276\n",
      "[32. 17. 11. 19. 27.  3.  8. 93. 27. 14.  1.  0. 10. 20. 19.  9.  8. 19.\n",
      "  0.  0.  9. 32.  8. 16. 33.  1.  7. 17. 10.  6.  4. 31. 19. 10. 15. 47.\n",
      " 22. 10.  1. 40. 12. 39. 18.  3. 16. 12.  9. 11.  5. 40. 32. 23. 28. 14.\n",
      " 10. 25.]\n",
      "\n"
     ]
    }
   ],
   "source": [
    "#Pruebas para mirar la cantidad de topic signatures dentro de todo el corpus de acuerdo al umbral establecido\n",
    "\n",
    "for i in range(len(umbrales)):\n",
    "    print('umbral: ',umbrales[i])\n",
    "    print(topic_signatures_umbrales[i].toarray().sum(1))\n",
    "    print()\n",
    "\n",
    "#topic_signatures_0_025.toarray().sum(1)"
   ]
  },
  {
   "cell_type": "code",
   "execution_count": 15,
   "metadata": {},
   "outputs": [
    {
     "data": {
      "text/plain": [
       "<56x4740 sparse matrix of type '<class 'numpy.float64'>'\n",
       "\twith 972 stored elements in Compressed Sparse Row format>"
      ]
     },
     "execution_count": 15,
     "metadata": {},
     "output_type": "execute_result"
    }
   ],
   "source": [
    "umbrales.pop()\n",
    "topic_signatures_umbrales.pop()"
   ]
  },
  {
   "cell_type": "markdown",
   "metadata": {},
   "source": [
    "## Fase 6. Ajustar topic signatures a un solo texto."
   ]
  },
  {
   "cell_type": "code",
   "execution_count": 16,
   "metadata": {},
   "outputs": [],
   "source": [
    "#Lista de textos dentro del corpus\n",
    "textos = os.listdir(ruta)\n",
    "\n",
    "topic_signatures_corpus = []\n",
    "\n",
    "for i in range(n_referencias):\n",
    "    topic_signatures_texto = []\n",
    "    for j in range(len(umbrales)):\n",
    "        topic_signatures = document_topic_signatures(corpus_preprocesado[i], topic_signatures_umbrales[j], token2id, textos.index(referencias[i]))\n",
    "        topic_signatures_texto.append(topic_signatures)\n",
    "    topic_signatures_corpus.append(topic_signatures_texto)\n",
    "\n",
    "#topic_signatures_bolivar_0_025 = document_topic_signatures(bolivar_preprocesado, topic_signatures_0_025, token2id, textos.index('segurosbolivar-privacidad.txt'))\n",
    "#topic_signatures_bolivar_0_010 = document_topic_signatures(bolivar_preprocesado, topic_signatures_0_010, token2id, textos.index('segurosbolivar-privacidad.txt'))\n",
    "#topic_signatures_bolivar_0_005 = document_topic_signatures(bolivar_preprocesado, topic_signatures_0_005, token2id, textos.index('segurosbolivar-privacidad.txt'))\n",
    "#topic_signatures_bolivar_0_025.shape"
   ]
  },
  {
   "cell_type": "markdown",
   "metadata": {},
   "source": [
    "## Fase 7. Seleccionar frases"
   ]
  },
  {
   "cell_type": "code",
   "execution_count": 29,
   "metadata": {},
   "outputs": [],
   "source": [
    "resumenes_corpus,df_corpus = [],[]\n",
    "\n",
    "for i in range(n_referencias):\n",
    "    resumen_texto,df_texto = [],[]\n",
    "    for j in range(len(umbrales)):\n",
    "        resumen, df = generate_summary(topic_signatures_corpus[i][j], 5, frase2id[i])\n",
    "        resumen = ' '.join(resumen)\n",
    "        resumen_texto.append(resumen)\n",
    "        df_texto.append(df)\n",
    "    resumenes_corpus.append(resumen_texto)\n",
    "    df_corpus.append(df_texto)\n",
    "\n",
    "#resumen_0_025, df_0_025 = generate_summary(topic_signatures_bolivar_0_025, 5, frase2id_bolivar)\n",
    "#resumen_0_010, df_0_010 = generate_summary(topic_signatures_bolivar_0_010, 5, frase2id_bolivar)\n",
    "#resumen_0_005, df_0_005 = generate_summary(topic_signatures_bolivar_0_005, 5, frase2id_bolivar)"
   ]
  },
  {
   "cell_type": "markdown",
   "metadata": {},
   "source": [
    "### Dataframes"
   ]
  },
  {
   "cell_type": "code",
   "execution_count": 20,
   "metadata": {},
   "outputs": [
    {
     "data": {
      "text/html": [
       "<div>\n",
       "<style scoped>\n",
       "    .dataframe tbody tr th:only-of-type {\n",
       "        vertical-align: middle;\n",
       "    }\n",
       "\n",
       "    .dataframe tbody tr th {\n",
       "        vertical-align: top;\n",
       "    }\n",
       "\n",
       "    .dataframe thead th {\n",
       "        text-align: right;\n",
       "    }\n",
       "</style>\n",
       "<table border=\"1\" class=\"dataframe\">\n",
       "  <thead>\n",
       "    <tr style=\"text-align: right;\">\n",
       "      <th></th>\n",
       "      <th>topic signatures</th>\n",
       "      <th>sentence</th>\n",
       "    </tr>\n",
       "  </thead>\n",
       "  <tbody>\n",
       "    <tr>\n",
       "      <td>17</td>\n",
       "      <td>12.0</td>\n",
       "      <td>LAS COMPAÑÍAS han identificado los datos que a...</td>\n",
       "    </tr>\n",
       "    <tr>\n",
       "      <td>8</td>\n",
       "      <td>9.0</td>\n",
       "      <td>com , ponemos a su disposición el presente Avi...</td>\n",
       "    </tr>\n",
       "    <tr>\n",
       "      <td>26</td>\n",
       "      <td>7.0</td>\n",
       "      <td>Declaro que , con base en dicho conocimiento ,...</td>\n",
       "    </tr>\n",
       "    <tr>\n",
       "      <td>43</td>\n",
       "      <td>7.0</td>\n",
       "      <td>Solicitar prueba de la autorización otorgada a...</td>\n",
       "    </tr>\n",
       "    <tr>\n",
       "      <td>31</td>\n",
       "      <td>6.0</td>\n",
       "      <td>Enviar material publicitario , o promocional s...</td>\n",
       "    </tr>\n",
       "    <tr>\n",
       "      <td>40</td>\n",
       "      <td>5.0</td>\n",
       "      <td>Como Titular de datos personales usted tiene l...</td>\n",
       "    </tr>\n",
       "    <tr>\n",
       "      <td>22</td>\n",
       "      <td>5.0</td>\n",
       "      <td>LAS COMPAÑÍAS hacen parte del Grupo Bolívar , ...</td>\n",
       "    </tr>\n",
       "    <tr>\n",
       "      <td>0</td>\n",
       "      <td>5.0</td>\n",
       "      <td>Políticas de privacidad de Seguros Bolívar Avi...</td>\n",
       "    </tr>\n",
       "    <tr>\n",
       "      <td>42</td>\n",
       "      <td>5.0</td>\n",
       "      <td>Este derecho se podrá ejercer , entre otros fr...</td>\n",
       "    </tr>\n",
       "    <tr>\n",
       "      <td>44</td>\n",
       "      <td>5.0</td>\n",
       "      <td>Ser informado por el Responsable del Tratamien...</td>\n",
       "    </tr>\n",
       "  </tbody>\n",
       "</table>\n",
       "</div>"
      ],
      "text/plain": [
       "    topic signatures                                           sentence\n",
       "17              12.0  LAS COMPAÑÍAS han identificado los datos que a...\n",
       "8                9.0  com , ponemos a su disposición el presente Avi...\n",
       "26               7.0  Declaro que , con base en dicho conocimiento ,...\n",
       "43               7.0  Solicitar prueba de la autorización otorgada a...\n",
       "31               6.0  Enviar material publicitario , o promocional s...\n",
       "40               5.0  Como Titular de datos personales usted tiene l...\n",
       "22               5.0  LAS COMPAÑÍAS hacen parte del Grupo Bolívar , ...\n",
       "0                5.0  Políticas de privacidad de Seguros Bolívar Avi...\n",
       "42               5.0  Este derecho se podrá ejercer , entre otros fr...\n",
       "44               5.0  Ser informado por el Responsable del Tratamien..."
      ]
     },
     "execution_count": 20,
     "metadata": {},
     "output_type": "execute_result"
    }
   ],
   "source": [
    "#df_0_025.head(10)"
   ]
  },
  {
   "cell_type": "markdown",
   "metadata": {},
   "source": [
    "### Resumenes"
   ]
  },
  {
   "cell_type": "code",
   "execution_count": 22,
   "metadata": {},
   "outputs": [
    {
     "data": {
      "text/plain": [
       "['com , ponemos a su disposición el presente Aviso de Privacidad que busca informar al Titular de datos personales acerca de la existencia de las Políticas de Tratamiento de información que han sido adoptadas por LAS COMPAÑÍAS , la forma de acceder a éstas y las características del Tratamiento que se le pretende dar a los datos',\n",
       " 'LAS COMPAÑÍAS han identificado los datos que administran , así como las actividades que desarrollan con dichos datos , en particular su recepción , conservación , disposición para los fines propios del contrato y desarrollo de actividades complementarias referidas a la promoción y el mercadeo de sus productos y servicios , así como los ofrecidos por las Compañías que hacen parte del Grupo Bolívar , al cual éstas pertenecen y así lo han indicado en las Políticas del Tratamiento disponibles para su consulta en la página web www',\n",
       " 'Declaro que , con base en dicho conocimiento , autorizo para que LAS COMPAÑÍAS compartan con dichas empresas y entidades la información personal de contacto y la que sea relevante para las finalidades aquí previstas , que he suministrado',\n",
       " 'Ser informado por el Responsable del Tratamiento o el Encargado del Tratamiento , previa solicitud , respecto del uso que le ha dado a sus datos personales',\n",
       " 'Mis datos personales serán tratados para las siguientes finalidades :']"
      ]
     },
     "execution_count": 22,
     "metadata": {},
     "output_type": "execute_result"
    }
   ],
   "source": [
    "#resumenes_corpus[referencias.index('segurosbolivar-privacidad.txt')][0]\n",
    "#resumen_0_025"
   ]
  },
  {
   "cell_type": "code",
   "execution_count": 35,
   "metadata": {},
   "outputs": [
    {
     "name": "stdout",
     "output_type": "stream",
     "text": [
      "azure-pagos.txt\n",
      "Podemos suspender el uso que usted haga de los Servicios Online si : ( 1 ) es razonablemente necesario para impedir el acceso no autorizado a los Datos del Cliente ; ( 2 ) usted no responde a una reclamación de una supuesta infracción de derechos en virtud de la Cláusula 5 dentro de un plazo razonable ; ( 3 ) no paga los importes debidos en virtud de este contrato ; ( 4 ) no se rige por la Directiva de Uso Aceptable o infringe otros términos de este contrato ; o ( 5 ) en el caso de Ofertas Limitadas , la Suscripción queda inactiva por su falta de acceso de los Servicios Online , tal como se describen en los Detalles de la Oferta no se aplicarán a una reclamación o el laudo que se base en : ( i ) cualquier Solución de Cliente , Datos del Cliente , Productos que no son de Microsoft , modificaciones que haga al Producto o servicios o materiales que ponga a disposición como parte de uso del Producto ; ( ii ) su combinación del Producto con , o los daños basados en el valor de , los Datos del Cliente o un proceso de negocio , datos o Producto que no sean de Microsoft ; ( iii ) el uso que haga de cualquier marca de Microsoft sin nuestro expreso consentimiento por escrito o el uso que haga del Producto después de que le notifiquemos que debe interrumpir su uso debido a una reclamación de un tercero ; ( iv ) la redistribución del Producto a terceros que no son Filiales , o su uso en beneficio de estos ; o ( v ) los Productos proporcionados de forma gratuita ( ii ) Usted nos defenderá frente a cualquier reclamación que presente un tercero que no es filial en que se afirme que ( 1 ) los Datos del Cliente , la Solución del Cliente o los Productos que no son de Microsoft o servicios que proporcione , directa o indirectamente , al utilizar un Producto , infringen los derechos de patente , de propiedad intelectual o de marca del tercero o hacen uso ilícito de su secreto empresarial ; o ( 2 ) que se derive de la infracción de la Directiva de Uso Aceptable La responsabilidad agregada de cada parte por todas las reclamaciones en virtud de este contrato se limita a los daños directos hasta el importe pagado en virtud de este contrato por el Servicio Online durante los 12 meses anteriores a la fecha en que se produjo la causa de la acción legal , y en ningún caso la responsabilidad agregada de una parte por cualquier Servicio Online exceda el importe pagado por el Servicio Online durante la Suscripción Durante el Período de Vigencia de la Suscripción , los precios de los Servicios Online no aumentarán , en cuanto a la Suscripción , con relación a los publicados en el Portal en el momento en que la Suscripción entró en vigor o se renovó , salvo si los precios se identificaron como temporales en los Detalles de la Oferta o para Versiones Preliminares de Productos que no son de Microsoft\n",
      "\n",
      "chrome-privacidad.txt\n",
      "Almacenar y compartir los datos almacenados de forma local o en su cuenta de Google Drive , además de acceder a ellos Ver el contenido y acceder a este en los sitios web que visita Usar las notificaciones que se envían a través de los servidores de Google En general , las Estadísticas de uso no incluyen URL de páginas web ni información personal ; sin embargo , si activó las opciones Mejorar las búsquedas y la navegación y Envía a Google las URL de las páginas que visitas , las Estadísticas de uso de Chrome incluirán información sobre las páginas web que haya visitado y su uso Si activó la Sincronización de Chrome , se asociará ese perfil de idioma con su Cuenta de Google y , si incluye el historial de Chrome en la configuración Actividad web y de aplicaciones , se podrá usar para personalizar su experiencia en otros productos de Google Información básica sobre el historial de navegación , como URL , texto de páginas almacenadas en caché o direcciones IP de páginas vinculadas de los sitios web que visita Instantáneas de las páginas que visita Registros de descargas , aunque los archivos que descarga seguirán almacenándose en otra ubicación de la computadora o el dispositivo Obtenga información para controlar la información que se recopila , almacena y comparte cuando usa el Sistema operativo Chrome o el navegador Google Chrome en la computadora , dispositivos móviles o cuando habilita la Navegación segura\n",
      "\n",
      "colboletos.txt\n",
      "II ) Como Encargados del tratamiento de datos personales , cuando llegare a efectuar el tratamiento en nombre de otra entidad u organización ( Responsable del tratamiento ) deberá : a ) Garantizar al Titular , el ejercicio del derecho de hábeas data ; b ) Conservar la información bajo las condiciones de seguridad necesarias para impedir su adulteración , pérdida , consulta , uso o acceso no autorizado o fraudulento ; c ) Realizar oportunamente la actualización , rectificación o supresión de los datos en los términos de la presente ley ; la actualización de la información reportada por los Responsables del Tratamiento , se deberá efectuar dentro de los cinco ( 5 ) días hábiles contados a partir de su recibo ; d ) Tramitar las consultas y los reclamos formulados por los Titulares en los términos señalados en la legislación aplicable ; e ) Registrar en la base de datos las leyenda “ reclamo en trámite ” en la forma en que se regula en la normatividad aplicable ; f ) Insertar en la base de datos la leyenda “ información en discusión judicial ” una vez notificado por parte de la autoridad competente sobre procesos judiciales relacionados con la calidad del dato personal ; g ) Abstenerse de circular información que esté siendo controvertida por el Titular y cuyo bloqueo haya sido ordenado por la Superintendencia de Industria y Comercio ; h ) Permitir el acceso a la información únicamente a las personas que pueden tener acceso a ella ; i ) Informar a la Superintendencia de Industria y Comercio cuando se presenten violaciones a los códigos de seguridad y existan riesgos en la administración de la información de los Titulares ; j ) Cumplir las instrucciones y requerimientos que imparta la Superintendencia de Industria y Comercio b ) La administración de la relación con sus proveedores y empleados ; c ) La realización de labores de comercialización , promoción y mercadeo , para el ofrecimiento de sus servicios y la mejora en la prestación de estos últimos ; d ) Mantener una comunicación constante con los titulares de datos personales ; e ) Informar sobre nuevos servicios y / o modificaciones en los mismos ; f ) Realizar procesos de conocimiento de los potenciales clientes o actualización de información de sus clientes o usuarios ; g ) Consultar centrales de bases de datos u Operadores de Información y Riesgo , o cualquier otra entidad que maneje o administre bases de datos e informes de la capacidad y el comportamiento crediticio ; h ) Reportar a las Centrales de información mencionadas en el literal anterior el comportamiento ( presente , pasado y futuro ) de los clientes , endeudamiento , y en especial el nacimiento , modificación , extinción de las obligaciones contraídas con la Empresa ; i ) Enviar al correo físico , electrónico , a las redes sociales o dispositivo móvil , vía mensajes de texto ( SMS y / o MMS ) o a través de cualquier otro medio de comunicación existente o que llegare a existir , información institucional , publicitaria o comercial sobre los productos y / o servicios de la Compañía , sus socios comerciales o proyectos en los cuales participa ; j ) Efectuar estudios , investigaciones e informes de mercado , financieros , estadísticos y de riesgo , entre otros ; k ) Desarrollar el proceso de selección , evaluación , y vinculación laboral ; j ) Evaluar la calidad de los servicios o productos suministrados ; l ) Suministrar , compartir , enviar o entregar sus datos personales a Compañías de seguros , asesores jurídicos , proveedores de software , autoridades fiscales , subcontratistas que procesen , administren o utilicen la información , en el evento en que dichas compañías requieran la información para los fines aquí indicados , caso en el cual se advierte sobre la necesidad de proteger dicha información personal y conservar la obligación de confidencialidad sobre la misma ; m ) Divulgar y entregar la información de clientes en caso de venta de cartera o cesión de obligaciones , caso en el cual las obligaciones cedidas conservan las acciones legales y pueden ser ejercidas por el cesionario de la obligación DEBERES : COLBOLETOS está obligada a cumplir los deberes que impone la normatividad aplicable respecto al tratamiento de datos personales , cuando actúe : I ) Como Responsables del tratamiento : ( a ) Garantizar al Titular el ejercicio del derecho de hábeas data ; ( b ) Solicitar y conservar , en las condiciones aquí previstas , copia de la respectiva autorización otorgada por el titular ; ( c ) Informar claramente al titular sobre la finalidad de la recolección y los derechos que le asisten en virtud de la autorización otorgada y el uso que se le dará a sus datos personales ; ( d ) Conservar la información bajo condiciones de seguridad que impidan su adulteración , pérdida , consulta , uso o acceso no autorizado o fraudulento ; ( e ) Actualizar la información de los titulares y rectificarla cuando sea incorrecta ; ( f ) Tramitar las consultas y reclamos formulados por los titulares de la información ; ( g ) Procurar que los principios de veracidad , calidad , seguridad y confidencialidad en los términos establecidos en la siguiente política ; ( h ) Exigir el respeto a las condiciones de seguridad y privacidad de la información del Titular e Informar a la autoridad de protección de datos cuando se presenten violación a la seguridad de la misma y cuando existan riesgos en la administración de la información ; ( i ) Cumplir las instrucciones y requerimientos que imparta la Superintendencia de Industria y Comercio Los datos personales , salvo la información pública , no se publicarán en Internet u otros medios de divulgación o comunicación masiva , salvo que el acceso sea técnicamente controlable para brindar un conocimiento restringido sólo a los Titulares o terceros autorizados conforme a la normatividad aplicable ; g ) Principio de seguridad : La información sujeta a Tratamiento por el Responsable o Encargado , se deberá manejar con las medidas técnicas , humanas y administrativas que sean necesarias para otorgar seguridad a los registros evitando su adulteración , pérdida , consulta , uso o acceso no autorizado o fraudulento ; h ) Principio de confidencialidad : Todas las personas que intervengan en el Tratamiento de datos personales que no tengan la naturaleza de públicos están obligadas a garantizar la reserva de la información , inclusive después de finalizada su relación con alguna de las labores que comprende el Tratamiento , pudiendo sólo realizar suministro o comunicación de datos personales cuando ello corresponda al desarrollo de las actividades autorizadas en la legislación aplicable y en los términos de la misma DERECHOS DEL TITULAR DE LOS DATOS PERSONALES : a ) Conocer , actualizar y rectificar sus datos personales frente a COLBOLETOS Este derecho se podrá ejercer , entre otros frente a datos parciales , inexactos , incompletos , fraccionados , que induzcan a error , o aquellos cuyo tratamiento esté expresamente prohibido o no haya sido autorizado ; b ) Solicitar prueba de la autorización , salvo cuando expresamente se exceptúe por la ley ; c ) Ser informado respecto del uso que se le ha dado a los datos personales , previa solicitud expresa por parte del titular ; d ) Presentar ante la Superintendencia de Industria y Comercio quejas por infracciones a lo dispuesto en la legislación aplicable sobre el tratamiento de datos personales e ) Derecho a requerir el cumplimiento de las órdenes emitidas por la Superintendencia de Industria y Comercio\n",
      "\n",
      "gdo-privacidad.txt\n",
      "Los datos de nuestros clientes de servicios de financiación no bancaria los cuales son capturados o recolectados mediante formularios físicos o electrónicos , serán almacenados , usados , procesados , suprimidos , transmitidos y / o transferidos a terceros para aplicar las finalidades que se determinan a continuación : Confrontar la información personal entregada con bases de datos públicas , centrales y sistemas de prevención de riesgo , compañías especializadas , referencias y contactos en aras de realizar actividades de confirmación ; asignar cupos de crédito brilla de acuerdo los requisitos establecidos por la compañía ; acreditar las actividades en relación a su condición de usuario de los servicios de financiación no bancaria ofrecidos por GASES DE OCCIDENTE S ; desarrollar estrategias de expansión de mercado , estudios de políticas tendientes a la ampliación de demanda , realización de campañas , actividades comerciales y de mercadeo , inteligencia de negocios y analítica de datos a través de tecnologías Big Data ; tratar sus datos con el fin de llevar a cabo estudios económicos de demanda del servicio y actividades de fidelización , determinación de niveles de satisfacción , envío de comunicaciones comerciales ; compartir sus datos personales que reposan en el catastro de suscriptores tales como nombre , número de teléfono fijo , personal o laboral , número de móvil personal o laboral y dirección de prestación del servicio público domiciliario con otras empresas de servicios públicos domiciliarios , con el fin de mantener actualizados nuestros registros y poder prestar un mejor servicio ; éstas actividades podrán desarrollarse por medio de redes sociales ( RRSS ), servicios de mensajería instantánea o cualquier medio de comunicación físico o electrónico , conocido o por conocerse ; desarrollar estrategias de expansión de mercado , estudios de políticas tendientes a la ampliación de demanda , realización de campañas , actividades comerciales y de mercadeo , inteligencia de negocios y analítica de datos a través de tecnologías Big Data ; estudios económicos de demanda , actividades de fidelización , determinación de niveles de satisfacción , enviar informaciones y notificaciones de carácter general , institucional y comercial relacionadas con los productos y servicios ofrecidos por GASES DE OCCIDENTE S Los datos de nuestros clientes ( personas naturales y representantes legales de personas jurídicas ) los cuales son capturados o recolectados mediante formularios físicos o electrónicos , serán almacenados , usados , procesados , suprimidos , transmitidos y / o transferidos a terceros para aplicar las finalidades que se determinan a continuación , las cuales son consideradas necesarias para poder gestionar de forma correcta la relación contractual con GASES DE OCCIDENTE S para la prestación del servicio público de gas domiciliario ; brindar asistencia técnica y comercial y dar respuesta a sus consultas de las actividades relacionadas a su condición de prospecto o cliente de los servicios públicos domiciliarios ofrecidos por GASES DE OCCIDENTE S\n",
      "\n",
      "mozilla-privacidad.txt\n",
      "Cuando recibimos solicitaciones como esa , sólo liberamos las informaciones personales del usuario cuando creemos de buena fe que la ley nos obliga a hacerlo Eventualmente divulgamos informaciones para mejorar nuestros productos y promover una Internet abierta , pero cuando lo hacemos , excluimos sus informaciones personales e intentamos divulgarlas de forma de minimizar el riesgo de identificación de los usuarios opta por el envío de informes de falla ); Recolectamos esas informaciones de forma automática a través de nuestros productos y servicios ( por ejemplo , cuando verificamos si su versión del Firefox está actualizada ); Recibimos informaciones sobre Ud Vamos a notificarlo cuando sus informaciones personales sean solicitadas de esta forma , a menos que estemos legalmente prohibidos de hacerlo Sus informaciones sólo son divulgadas de esa manera cuando creemos de buena fe que se hace necesario para proteger los derechos , la propiedad o la seguridad del usuario en cuestión , de nuestros otros usuarios , de Mozilla o del público\n",
      "\n",
      "nintendo-condiciones.txt\n",
      "Si bien Nintendo no tiene obligación de analizar , editar ni supervisar el Contenido del usuario publicado en los Servicios , Nintendo se reserva el derecho , y tiene la absoluta discreción , de acceder , usar , supervisar , divulgar o preservar información asociada con su uso de los Servicios , incluido , entre otras cosas , el Contenido del usuario , o información que Nintendo obtenga sobre usted mediante su uso de los Servicios , cuando Nintendo tenga la creencia de buena fe de que hacerlo es necesario ( a ) para cumplir con la ley aplicable o responder a un proceso legal de autoridades competentes ; ( b ) para hacer cumplir estas Condiciones o proteger los derechos ( como derechos de propiedad ) de Nintendo o sus usuarios ; ( c ) para ayudar a evitar una muerte o una lesión física grave de cualquier persona ; o ( d ) para evitar actividades potencialmente ilegales u ofensivas no usar o intentar usar la cuenta de otro usuario sin la autorización de dicho usuario y Nintendo ni publicar , cargar , transmitir , distribuir , almacenar , crear o enviar de otra forma Contenido del usuario a través de los Servicios que contenga información personal sobre una persona , incluido , entre otras cosas , el nombre , la dirección , la dirección de correo electrónico o la información de la tarjeta de crédito ; Si las Partes de Nintendo llegaren a quedar obligadas a cubrir reclamos , costos , daños , pérdidas u otras responsabilidades , ya sean reales o posibles , ( las \" Pérdidas cubiertas \") como resultado del uso que usted haga de cualquiera de los Servicios o de cualquier dato , información u otro elemento que usted ponga a disposición de Nintendo mediante los Servicios , incluido el Contenido del usuario , usted acepta indemnizar a las Partes de Nintendo de todas las Pérdidas cubiertas y cualquier costo relacionado , incluyendo tarifas de abogado razonables Usuarios : si envía o publica Contenido del usuario en los Servicios , a menos que indiquemos otra cosa , usted le está otorgando a Nintendo una licencia internacional , libre de regalías , irrevocable , perpetua , no exclusiva y sublicenciable para usar , reproducir , modificar , adaptar , publicar , traducir , distribuir , ejecutar y exhibir el Contenido del usuario , en su totalidad o en parte , y para incorporar dicho contenido en otros trabajos en cualquier forma , medio o tecnología presente o futuro , incluidos los fines de promoción o comercialización Dicha licencia está sujeta a estas Condiciones y no incluye lo siguiente : ( a ) la reventa o el uso comercial de los Servicios o los Materiales de estos ; ( b ) la distribución , exhibición pública o ejecución pública de los Materiales ; ( c ) la modificación o el uso derivativo de los Servicios o los Materiales , en su totalidad o en parte ; ( d ) la descarga ( que no sea el caché de la página ) de cualquier parte de los Servicios , los Materiales u otra información contenida en estos , excepto según se permite expresamente en los Servicios ; o ( e ) el uso de los Servicios o los Materiales que no sea para el propósito para el que se diseñaron\n",
      "\n",
      "netflix-condiciones.txt\n",
      "Si se suscribió a Netflix mediante su cuenta con un tercero como Forma de pago y desea cancelar su membresía de Netflix en cualquier momento , es posible que tenga que hacerlo a través de dicho tercero , ya sea , al visitar su cuenta con el tercero correspondiente para desactivar su renovación automática o al cancelar la suscripción al servicio de Netflix a través de ese tercero Para mantener el control sobre la cuenta y evitar que alguien acceda a la cuenta ( que incluiría información sobre el historial de visualización de la cuenta ), el Titular de la cuenta debería mantener el control sobre los dispositivos listos para Netflix que se utilizan para acceder al servicio y no revelar a nadie la contraseña ni la información de la Forma de pago asociada con la cuenta Según se utilicen en estos Términos de uso , las frases “ el servicio de Netflix ”, “ nuestro servicio ” o “ el servicio ” se refieren al servicio personalizado brindado por Netflix para descubrir y ver contenido de Netflix , incluidas todas las características y funcionalidades , recomendaciones y críticas , el sitio web y las interfaces de usuario , además de todo el contenido y software asociado a nuestro servicio Los cargos de membresía por el servicio de Netflix y cualquier otro cargo en el que incurra en relación con el uso que haga del servicio de Netflix , como impuestos y posibles gastos de transacción , se cobrarán a su Forma de pago en la fecha de pago específica indicada en la página “ Cuenta En ciertos casos , su fecha de pago podría cambiar , por ejemplo , si no se pudo hacer el cobro con su Forma de pago satisfactoriamente , cuando cambie su plan de suscripción , o si su membresía pagada comenzó un día que no está incluido en un determinado mes\n",
      "\n",
      "segurosbolivar-privacidad.txt\n",
      "LAS COMPAÑÍAS han identificado los datos que administran , así como las actividades que desarrollan con dichos datos , en particular su recepción , conservación , disposición para los fines propios del contrato y desarrollo de actividades complementarias referidas a la promoción y el mercadeo de sus productos y servicios , así como los ofrecidos por las Compañías que hacen parte del Grupo Bolívar , al cual éstas pertenecen y así lo han indicado en las Políticas del Tratamiento disponibles para su consulta en la página web www com , ponemos a su disposición el presente Aviso de Privacidad que busca informar al Titular de datos personales acerca de la existencia de las Políticas de Tratamiento de información que han sido adoptadas por LAS COMPAÑÍAS , la forma de acceder a éstas y las características del Tratamiento que se le pretende dar a los datos Declaro que , con base en dicho conocimiento , autorizo para que LAS COMPAÑÍAS compartan con dichas empresas y entidades la información personal de contacto y la que sea relevante para las finalidades aquí previstas , que he suministrado Solicitar prueba de la autorización otorgada al Responsable del Tratamiento salvo cuando expresamente se exceptúe como requisito para el Tratamiento , de conformidad con lo previsto en el artículo 10 de la presente ley Enviar material publicitario , o promocional sobre los servicios y productos de LAS COMPAÑÍAS del Grupo y las actividades desarrolladas por las Fundaciones\n",
      "\n",
      "whatsApp-privacidad.txt\n",
      "Podemos recopilar , usar , conservar y compartir tu información si consideramos de buena fe que es razonablemente necesario para : ( a ) responder de acuerdo con las leyes o normas , procesos legales o solicitudes gubernamentales aplicables ; ( b ) exigir el cumplimiento de nuestras Condiciones o cualquier otro término y política aplicable , incluso para investigaciones de infracciones potenciales ; ( c ) detectar , investigar , impedir y abordar fraudes y otras actividades ilegales o problemas técnicos o de seguridad ; o ( d ) proteger los derechos , la propiedad y la seguridad de nuestros usuarios , WhatsApp , la familia de empresas de Facebook u otros Aceptas nuestras prácticas de información , que incluyen la recopilación , el uso , el procesamiento y el uso compartido de tu información , tal como se describe en esta Política de privacidad , así como la transferencia y el procesamiento de tu información en los Estados Unidos y otros países de manera global donde tenemos o usamos instalaciones , proveedores de servicios o socios , independientemente de dónde usas nuestros Servicios Tu número de teléfono , nombre y foto de perfil , estado de conexión y mensaje de estado , estado de última conexión y confirmaciones de lectura pueden estar disponibles para cualquier persona que use nuestros Servicios , aunque puedes configurar los ajustes de nuestros Servicios para determinar qué información quieres que esté disponible para los demás usuarios Por ejemplo , cuando otros usuarios que conoces usan nuestros Servicios , pueden proporcionar tu número de teléfono de la lista de contactos de su teléfono móvil ( así como tú puedes proporcionar el de ellos ), o bien pueden enviarte un mensaje , enviar mensajes a los grupos a los que perteneces o llamarte Facebook y las demás empresas de la familia de Facebook también pueden usar nuestra información para mejorar tus experiencias con sus servicios , así como sugerencias ( por ejemplo , de amigos o conexiones , o de contenido interesante ), mostrar anuncios y ofertas relevantes\n",
      "\n"
     ]
    }
   ],
   "source": [
    "for i in range(n_referencias):\n",
    "    print(referencias[i])\n",
    "    print(resumenes_corpus[i][0])\n",
    "    print()\n",
    "#      Imprimir resumenes  "
   ]
  },
  {
   "cell_type": "markdown",
   "metadata": {},
   "source": [
    "## Fase 8. Evaluar el resumen obtenido"
   ]
  },
  {
   "cell_type": "code",
   "execution_count": 31,
   "metadata": {},
   "outputs": [],
   "source": [
    "ruta_referencia = \"D:/Documents/Documentos Universidad/Noveno/Proyecto de grado/referencias\"\n",
    "\n",
    "resumenes_referencia = []\n",
    "\n",
    "for doc in referencias:\n",
    "    referencia_doc = read_reference(ruta_referencia, doc)\n",
    "    resumenes_referencia.append(referencia_doc) \n",
    "        \n",
    "#resumen_0_025 = ' '.join(resumen_0_025)\n",
    "#resumen_0_010 = ' '.join(resumen_0_010)\n",
    "#resumen_0_005 = ' '.join(resumen_0_005)\n",
    "\n",
    "rouge = Rouge(metrics=[\"rouge-1\", \"rouge-l\"])"
   ]
  },
  {
   "cell_type": "code",
   "execution_count": 33,
   "metadata": {},
   "outputs": [
    {
     "name": "stdout",
     "output_type": "stream",
     "text": [
      "azure-pagos.txt\n",
      "5.0239\n",
      "[{'rouge-1': {'f': 0.6630434733988971, 'p': 0.7951582867783985, 'r': 0.5685752330226365}, 'rouge-l': {'f': 0.49152541891877344, 'p': 0.6105263157894737, 'r': 0.41134751773049644}}]\n",
      "6.6349\n",
      "[{'rouge-1': {'f': 0.6630434733988971, 'p': 0.7951582867783985, 'r': 0.5685752330226365}, 'rouge-l': {'f': 0.48728813078318023, 'p': 0.6052631578947368, 'r': 0.4078014184397163}}]\n",
      "7.8794\n",
      "[{'rouge-1': {'f': 0.6339920900371636, 'p': 0.7801556420233463, 'r': 0.5339547270306259}, 'rouge-l': {'f': 0.4753747275497618, 'p': 0.6, 'r': 0.39361702127659576}}]\n",
      "\n",
      "chrome-privacidad.txt\n",
      "5.0239\n",
      "[{'rouge-1': {'f': 0.36983470695282084, 'p': 0.7276422764227642, 'r': 0.24792243767313019}, 'rouge-l': {'f': 0.24181359781712977, 'p': 0.40336134453781514, 'r': 0.17266187050359713}}]\n",
      "6.6349\n",
      "[{'rouge-1': {'f': 0.38235293751191657, 'p': 0.7913043478260869, 'r': 0.2520775623268698}, 'rouge-l': {'f': 0.3375314819481121, 'p': 0.5630252100840336, 'r': 0.24100719424460432}}]\n",
      "7.8794\n",
      "[{'rouge-1': {'f': 0.3481865247293404, 'p': 0.691358024691358, 'r': 0.23268698060941828}, 'rouge-l': {'f': 0.2320987611271453, 'p': 0.3700787401574803, 'r': 0.16906474820143885}}]\n",
      "\n",
      "colboletos.txt\n",
      "5.0239\n",
      "[{'rouge-1': {'f': 0.43166286621808214, 'p': 0.2956318252730109, 'r': 0.79957805907173}, 'rouge-l': {'f': 0.421669102240353, 'p': 0.3325635103926097, 'r': 0.576}}]\n",
      "6.6349\n",
      "[{'rouge-1': {'f': 0.4321201577792663, 'p': 0.2975338106603023, 'r': 0.7890295358649789}, 'rouge-l': {'f': 0.34117646593858136, 'p': 0.26976744186046514, 'r': 0.464}}]\n",
      "7.8794\n",
      "[{'rouge-1': {'f': 0.4128113834293487, 'p': 0.31149301825993553, 'r': 0.6118143459915611}, 'rouge-l': {'f': 0.3022847050911012, 'p': 0.26959247648902823, 'r': 0.344}}]\n",
      "\n",
      "gdo-privacidad.txt\n",
      "5.0239\n",
      "[{'rouge-1': {'f': 0.49444443998163584, 'p': 0.3723849372384937, 'r': 0.7355371900826446}, 'rouge-l': {'f': 0.43067846115714276, 'p': 0.38219895287958117, 'r': 0.49324324324324326}}]\n",
      "6.6349\n",
      "[{'rouge-1': {'f': 0.5243328053355482, 'p': 0.42278481012658226, 'r': 0.6900826446280992}, 'rouge-l': {'f': 0.43195265779909664, 'p': 0.38421052631578945, 'r': 0.49324324324324326}}]\n",
      "7.8794\n",
      "[{'rouge-1': {'f': 0.5633382964315556, 'p': 0.4405594405594406, 'r': 0.78099173553719}, 'rouge-l': {'f': 0.41011235469258933, 'p': 0.35096153846153844, 'r': 0.49324324324324326}}]\n",
      "\n",
      "mozilla-privacidad.txt\n",
      "5.0239\n",
      "[{'rouge-1': {'f': 0.6990881408967028, 'p': 0.7012195121951219, 'r': 0.696969696969697}, 'rouge-l': {'f': 0.6599999950000001, 'p': 0.66, 'r': 0.66}}]\n",
      "6.6349\n",
      "[{'rouge-1': {'f': 0.41281138305239296, 'p': 0.5, 'r': 0.3515151515151515}, 'rouge-l': {'f': 0.23076922581813802, 'p': 0.25609756097560976, 'r': 0.21}}]\n",
      "7.8794\n",
      "[{'rouge-1': {'f': 0.41281138305239296, 'p': 0.5, 'r': 0.3515151515151515}, 'rouge-l': {'f': 0.23076922581813802, 'p': 0.25609756097560976, 'r': 0.21}}]\n",
      "\n",
      "nintendo-condiciones.txt\n",
      "5.0239\n",
      "[{'rouge-1': {'f': 0.4873208332240847, 'p': 0.39184397163120566, 'r': 0.6443148688046647}, 'rouge-l': {'f': 0.38287153157725773, 'p': 0.3470319634703196, 'r': 0.42696629213483145}}]\n",
      "6.6349\n",
      "[{'rouge-1': {'f': 0.4193548340538559, 'p': 0.3321976149914821, 'r': 0.5685131195335277}, 'rouge-l': {'f': 0.19847327748706708, 'p': 0.1813953488372093, 'r': 0.21910112359550563}}]\n",
      "7.8794\n",
      "[{'rouge-1': {'f': 0.5412843988972151, 'p': 0.44612476370510395, 'r': 0.6880466472303207}, 'rouge-l': {'f': 0.5089974243418959, 'p': 0.46919431279620855, 'r': 0.5561797752808989}}]\n",
      "\n",
      "netflix-condiciones.txt\n",
      "5.0239\n",
      "[{'rouge-1': {'f': 0.5216316392389084, 'p': 0.6656151419558359, 'r': 0.42886178861788615}, 'rouge-l': {'f': 0.33952254172336405, 'p': 0.4507042253521127, 'r': 0.2723404255319149}}]\n",
      "6.6349\n",
      "[{'rouge-1': {'f': 0.4225721739020812, 'p': 0.5962962962962963, 'r': 0.32723577235772355}, 'rouge-l': {'f': 0.21787709046144013, 'p': 0.3170731707317073, 'r': 0.16595744680851063}}]\n",
      "7.8794\n",
      "[{'rouge-1': {'f': 0.4659685818020341, 'p': 0.6544117647058824, 'r': 0.3617886178861789}, 'rouge-l': {'f': 0.27647058396626306, 'p': 0.44761904761904764, 'r': 0.2}}]\n",
      "\n",
      "segurosbolivar-privacidad.txt\n",
      "5.0239\n",
      "[{'rouge-1': {'f': 0.3838862510252466, 'p': 0.3360995850622407, 'r': 0.44751381215469616}, 'rouge-l': {'f': 0.21645021146605212, 'p': 0.20491803278688525, 'r': 0.22935779816513763}}]\n",
      "6.6349\n",
      "[{'rouge-1': {'f': 0.37313432340771274, 'p': 0.3393665158371041, 'r': 0.4143646408839779}, 'rouge-l': {'f': 0.2232142807178732, 'p': 0.21739130434782608, 'r': 0.22935779816513763}}]\n",
      "7.8794\n",
      "[{'rouge-1': {'f': 0.40211639712536046, 'p': 0.38578680203045684, 'r': 0.4198895027624309}, 'rouge-l': {'f': 0.2095238045310659, 'p': 0.21782178217821782, 'r': 0.2018348623853211}}]\n",
      "\n",
      "whatsApp-privacidad.txt\n",
      "5.0239\n",
      "[{'rouge-1': {'f': 0.4621309321701072, 'p': 0.5247813411078717, 'r': 0.41284403669724773}, 'rouge-l': {'f': 0.20441988451024096, 'p': 0.21264367816091953, 'r': 0.19680851063829788}}]\n",
      "6.6349\n",
      "[{'rouge-1': {'f': 0.4851751973098133, 'p': 0.5882352941176471, 'r': 0.41284403669724773}, 'rouge-l': {'f': 0.2982456090845047, 'p': 0.33116883116883117, 'r': 0.2712765957446808}}]\n",
      "7.8794\n",
      "[{'rouge-1': {'f': 0.4335664288075114, 'p': 0.5555555555555556, 'r': 0.3555045871559633}, 'rouge-l': {'f': 0.2682215693903051, 'p': 0.2967741935483871, 'r': 0.24468085106382978}}]\n",
      "\n"
     ]
    }
   ],
   "source": [
    "for i in range(n_referencias):\n",
    "    print(referencias[i])\n",
    "    for j in range(len(umbrales)):\n",
    "        print(umbrales[j])\n",
    "        print(rouge.get_scores(resumenes_corpus[i][j], resumenes_referencia[i]))\n",
    "    print()"
   ]
  },
  {
   "cell_type": "markdown",
   "metadata": {},
   "source": [
    "## Pruebas\n",
    "En este espacio estan las celdas para realizar algunas pruebas, además de la gráfica que contiene los valores de -2lambda para un texto de pruebas (términos de privacidad  de seguros bolivar)"
   ]
  },
  {
   "cell_type": "code",
   "execution_count": 49,
   "metadata": {},
   "outputs": [
    {
     "data": {
      "text/plain": [
       "[{'rouge-1': {'f': 0.3838862510252466,\n",
       "   'p': 0.3360995850622407,\n",
       "   'r': 0.44751381215469616},\n",
       "  'rouge-l': {'f': 0.21645021146605212,\n",
       "   'p': 0.20491803278688525,\n",
       "   'r': 0.22935779816513763}}]"
      ]
     },
     "execution_count": 49,
     "metadata": {},
     "output_type": "execute_result"
    }
   ],
   "source": [
    "#rouge.get_scores(resumen_0_025, referencia_bolivar)"
   ]
  },
  {
   "cell_type": "code",
   "execution_count": 50,
   "metadata": {},
   "outputs": [
    {
     "data": {
      "text/plain": [
       "[{'rouge-1': {'f': 0.37313432340771274,\n",
       "   'p': 0.3393665158371041,\n",
       "   'r': 0.4143646408839779},\n",
       "  'rouge-l': {'f': 0.2232142807178732,\n",
       "   'p': 0.21739130434782608,\n",
       "   'r': 0.22935779816513763}}]"
      ]
     },
     "execution_count": 50,
     "metadata": {},
     "output_type": "execute_result"
    }
   ],
   "source": [
    "#rouge.get_scores(resumen_0_010, referencia_bolivar)"
   ]
  },
  {
   "cell_type": "code",
   "execution_count": 30,
   "metadata": {},
   "outputs": [
    {
     "data": {
      "text/plain": [
       "[{'rouge-1': {'f': 0.40211639712536046,\n",
       "   'p': 0.38578680203045684,\n",
       "   'r': 0.4198895027624309},\n",
       "  'rouge-l': {'f': 0.2095238045310659,\n",
       "   'p': 0.21782178217821782,\n",
       "   'r': 0.2018348623853211}}]"
      ]
     },
     "execution_count": 30,
     "metadata": {},
     "output_type": "execute_result"
    }
   ],
   "source": [
    "#rouge.get_scores(resumen_0_005, referencia_bolivar)"
   ]
  },
  {
   "cell_type": "code",
   "execution_count": 96,
   "metadata": {},
   "outputs": [],
   "source": [
    "tp = topic_signatures_bolivar.toarray().sum(1)\n",
    "df = pd.DataFrame(tp,columns = ['topic signature value'])\n",
    "df['sentence'] = frase2id_bolivar.keys()\n",
    "df = df.sort_values(by='topic signature value', ascending = False)\n",
    "#df"
   ]
  },
  {
   "cell_type": "code",
   "execution_count": 97,
   "metadata": {},
   "outputs": [],
   "source": [
    "x_axis = np.arange(0,log_likelihood.shape[1])\n",
    "y_axis = log_likelihood.tolist()[textos.index('segurosbolivar-privacidad.txt')]"
   ]
  },
  {
   "cell_type": "code",
   "execution_count": 98,
   "metadata": {},
   "outputs": [
    {
     "data": {
      "image/png": "[encoded data removed]",
      "text/plain": [
       "<Figure size 432x288 with 1 Axes>"
      ]
     },
     "metadata": {
      "needs_background": "light"
     },
     "output_type": "display_data"
    }
   ],
   "source": [
    "plt.bar(x_axis, y_axis, align='center', alpha=0.5)\n",
    "plt.ylabel(\"-2(lambda)\")\n",
    "plt.grid()\n",
    "plt.show()"
   ]
  },
  {
   "cell_type": "code",
   "execution_count": 101,
   "metadata": {},
   "outputs": [
    {
     "data": {
      "text/html": [
       "<div>\n",
       "<style scoped>\n",
       "    .dataframe tbody tr th:only-of-type {\n",
       "        vertical-align: middle;\n",
       "    }\n",
       "\n",
       "    .dataframe tbody tr th {\n",
       "        vertical-align: top;\n",
       "    }\n",
       "\n",
       "    .dataframe thead th {\n",
       "        text-align: right;\n",
       "    }\n",
       "</style>\n",
       "<table border=\"1\" class=\"dataframe\">\n",
       "  <thead>\n",
       "    <tr style=\"text-align: right;\">\n",
       "      <th></th>\n",
       "      <th>valor</th>\n",
       "      <th>token</th>\n",
       "    </tr>\n",
       "  </thead>\n",
       "  <tbody>\n",
       "    <tr>\n",
       "      <td>1176</td>\n",
       "      <td>-21.927381</td>\n",
       "      <td>dat</td>\n",
       "    </tr>\n",
       "    <tr>\n",
       "      <td>4443</td>\n",
       "      <td>-18.715980</td>\n",
       "      <td>tratamient</td>\n",
       "    </tr>\n",
       "    <tr>\n",
       "      <td>836</td>\n",
       "      <td>-18.122429</td>\n",
       "      <td>compañ</td>\n",
       "    </tr>\n",
       "    <tr>\n",
       "      <td>3267</td>\n",
       "      <td>-15.749891</td>\n",
       "      <td>personal</td>\n",
       "    </tr>\n",
       "    <tr>\n",
       "      <td>1923</td>\n",
       "      <td>-14.630646</td>\n",
       "      <td>final</td>\n",
       "    </tr>\n",
       "    <tr>\n",
       "      <td>537</td>\n",
       "      <td>-14.069663</td>\n",
       "      <td>boliv</td>\n",
       "    </tr>\n",
       "    <tr>\n",
       "      <td>2090</td>\n",
       "      <td>-13.572011</td>\n",
       "      <td>grup</td>\n",
       "    </tr>\n",
       "    <tr>\n",
       "      <td>2343</td>\n",
       "      <td>-13.307293</td>\n",
       "      <td>inform</td>\n",
       "    </tr>\n",
       "    <tr>\n",
       "      <td>75</td>\n",
       "      <td>-13.201412</td>\n",
       "      <td>activ</td>\n",
       "    </tr>\n",
       "    <tr>\n",
       "      <td>1270</td>\n",
       "      <td>-13.019640</td>\n",
       "      <td>desarroll</td>\n",
       "    </tr>\n",
       "  </tbody>\n",
       "</table>\n",
       "</div>"
      ],
      "text/plain": [
       "          valor       token\n",
       "1176 -21.927381         dat\n",
       "4443 -18.715980  tratamient\n",
       "836  -18.122429      compañ\n",
       "3267 -15.749891    personal\n",
       "1923 -14.630646       final\n",
       "537  -14.069663       boliv\n",
       "2090 -13.572011        grup\n",
       "2343 -13.307293      inform\n",
       "75   -13.201412       activ\n",
       "1270 -13.019640   desarroll"
      ]
     },
     "execution_count": 101,
     "metadata": {},
     "output_type": "execute_result"
    }
   ],
   "source": [
    "data = [[y_axis[i],id2token[i]] for i in range(len(y_axis))]\n",
    "df = pd.DataFrame(data,columns=['valor','token'])\n",
    "df = df.sort_values(by='valor', ascending = False).head(10)\n",
    "df"
   ]
  },
  {
   "cell_type": "code",
   "execution_count": 95,
   "metadata": {},
   "outputs": [
    {
     "data": {
      "text/plain": [
       "349"
      ]
     },
     "execution_count": 95,
     "metadata": {},
     "output_type": "execute_result"
    }
   ],
   "source": [
    "#bag_of_words.sum(0)[0,token2id['acced']]"
   ]
  },
  {
   "cell_type": "code",
   "execution_count": 67,
   "metadata": {},
   "outputs": [
    {
     "data": {
      "text/plain": [
       "349"
      ]
     },
     "execution_count": 67,
     "metadata": {},
     "output_type": "execute_result"
    }
   ],
   "source": [
    "#ocurrences[0,token2id['acced']]"
   ]
  },
  {
   "cell_type": "code",
   "execution_count": 69,
   "metadata": {},
   "outputs": [
    {
     "data": {
      "text/plain": [
       "146112"
      ]
     },
     "execution_count": 69,
     "metadata": {},
     "output_type": "execute_result"
    }
   ],
   "source": [
    "#bag_of_words.sum(1).sum(0)[0,0]"
   ]
  },
  {
   "cell_type": "code",
   "execution_count": 2,
   "metadata": {},
   "outputs": [
    {
     "data": {
      "text/plain": [
       "array([[0.        , 0.69314718, 1.09861229],\n",
       "       [1.38629436, 1.60943791, 1.79175947],\n",
       "       [1.94591015, 2.07944154, 2.19722458]])"
      ]
     },
     "execution_count": 2,
     "metadata": {},
     "output_type": "execute_result"
    }
   ],
   "source": [
    "np.log([[1,2,3],[4,5,6],[7,8,9]])"
   ]
  },
  {
   "cell_type": "markdown",
   "metadata": {},
   "source": [
    "### Dataframe con los distintos valores estimados"
   ]
  },
  {
   "cell_type": "code",
   "execution_count": 21,
   "metadata": {},
   "outputs": [
    {
     "data": {
      "text/html": [
       "<div>\n",
       "<style scoped>\n",
       "    .dataframe tbody tr th:only-of-type {\n",
       "        vertical-align: middle;\n",
       "    }\n",
       "\n",
       "    .dataframe tbody tr th {\n",
       "        vertical-align: top;\n",
       "    }\n",
       "\n",
       "    .dataframe thead th {\n",
       "        text-align: right;\n",
       "    }\n",
       "</style>\n",
       "<table border=\"1\" class=\"dataframe\">\n",
       "  <thead>\n",
       "    <tr style=\"text-align: right;\">\n",
       "      <th></th>\n",
       "      <th>token</th>\n",
       "      <th>lambda</th>\n",
       "      <th>log lambda</th>\n",
       "      <th>-2 lambda</th>\n",
       "      <th>-2 log lambda</th>\n",
       "    </tr>\n",
       "  </thead>\n",
       "  <tbody>\n",
       "    <tr>\n",
       "      <td>1176</td>\n",
       "      <td>dat</td>\n",
       "      <td>10.963690</td>\n",
       "      <td>2.394589</td>\n",
       "      <td>-21.927381</td>\n",
       "      <td>-4.789178</td>\n",
       "    </tr>\n",
       "    <tr>\n",
       "      <td>4443</td>\n",
       "      <td>tratamient</td>\n",
       "      <td>9.357990</td>\n",
       "      <td>2.236231</td>\n",
       "      <td>-18.715980</td>\n",
       "      <td>-4.472461</td>\n",
       "    </tr>\n",
       "    <tr>\n",
       "      <td>836</td>\n",
       "      <td>compañ</td>\n",
       "      <td>9.061214</td>\n",
       "      <td>2.204003</td>\n",
       "      <td>-18.122429</td>\n",
       "      <td>-4.408006</td>\n",
       "    </tr>\n",
       "    <tr>\n",
       "      <td>3267</td>\n",
       "      <td>personal</td>\n",
       "      <td>7.874946</td>\n",
       "      <td>2.063686</td>\n",
       "      <td>-15.749891</td>\n",
       "      <td>-4.127373</td>\n",
       "    </tr>\n",
       "    <tr>\n",
       "      <td>1923</td>\n",
       "      <td>final</td>\n",
       "      <td>7.315323</td>\n",
       "      <td>1.989971</td>\n",
       "      <td>-14.630646</td>\n",
       "      <td>-3.979942</td>\n",
       "    </tr>\n",
       "    <tr>\n",
       "      <td>537</td>\n",
       "      <td>boliv</td>\n",
       "      <td>7.034832</td>\n",
       "      <td>1.950874</td>\n",
       "      <td>-14.069663</td>\n",
       "      <td>-3.901748</td>\n",
       "    </tr>\n",
       "    <tr>\n",
       "      <td>2090</td>\n",
       "      <td>grup</td>\n",
       "      <td>6.786006</td>\n",
       "      <td>1.914863</td>\n",
       "      <td>-13.572011</td>\n",
       "      <td>-3.829725</td>\n",
       "    </tr>\n",
       "    <tr>\n",
       "      <td>2343</td>\n",
       "      <td>inform</td>\n",
       "      <td>6.653647</td>\n",
       "      <td>1.895165</td>\n",
       "      <td>-13.307293</td>\n",
       "      <td>-3.790330</td>\n",
       "    </tr>\n",
       "    <tr>\n",
       "      <td>75</td>\n",
       "      <td>activ</td>\n",
       "      <td>6.600706</td>\n",
       "      <td>1.887177</td>\n",
       "      <td>-13.201412</td>\n",
       "      <td>-3.774353</td>\n",
       "    </tr>\n",
       "    <tr>\n",
       "      <td>1270</td>\n",
       "      <td>desarroll</td>\n",
       "      <td>6.509820</td>\n",
       "      <td>1.873312</td>\n",
       "      <td>-13.019640</td>\n",
       "      <td>-3.746624</td>\n",
       "    </tr>\n",
       "    <tr>\n",
       "      <td>2113</td>\n",
       "      <td>hac</td>\n",
       "      <td>6.152249</td>\n",
       "      <td>1.816818</td>\n",
       "      <td>-12.304497</td>\n",
       "      <td>-3.633635</td>\n",
       "    </tr>\n",
       "    <tr>\n",
       "      <td>3446</td>\n",
       "      <td>previst</td>\n",
       "      <td>6.054509</td>\n",
       "      <td>1.800803</td>\n",
       "      <td>-12.109018</td>\n",
       "      <td>-3.601607</td>\n",
       "    </tr>\n",
       "    <tr>\n",
       "      <td>3337</td>\n",
       "      <td>polit</td>\n",
       "      <td>5.646365</td>\n",
       "      <td>1.731012</td>\n",
       "      <td>-11.292730</td>\n",
       "      <td>-3.462024</td>\n",
       "    </tr>\n",
       "    <tr>\n",
       "      <td>3459</td>\n",
       "      <td>privac</td>\n",
       "      <td>5.644278</td>\n",
       "      <td>1.730642</td>\n",
       "      <td>-11.288557</td>\n",
       "      <td>-3.461285</td>\n",
       "    </tr>\n",
       "    <tr>\n",
       "      <td>981</td>\n",
       "      <td>contact</td>\n",
       "      <td>5.628242</td>\n",
       "      <td>1.727797</td>\n",
       "      <td>-11.256485</td>\n",
       "      <td>-3.455594</td>\n",
       "    </tr>\n",
       "    <tr>\n",
       "      <td>4024</td>\n",
       "      <td>servici</td>\n",
       "      <td>5.094541</td>\n",
       "      <td>1.628170</td>\n",
       "      <td>-10.189082</td>\n",
       "      <td>-3.256339</td>\n",
       "    </tr>\n",
       "    <tr>\n",
       "      <td>1256</td>\n",
       "      <td>derech</td>\n",
       "      <td>5.089657</td>\n",
       "      <td>1.627210</td>\n",
       "      <td>-10.179314</td>\n",
       "      <td>-3.254421</td>\n",
       "    </tr>\n",
       "    <tr>\n",
       "      <td>3481</td>\n",
       "      <td>product</td>\n",
       "      <td>5.084423</td>\n",
       "      <td>1.626182</td>\n",
       "      <td>-10.168846</td>\n",
       "      <td>-3.252363</td>\n",
       "    </tr>\n",
       "    <tr>\n",
       "      <td>3830</td>\n",
       "      <td>respons</td>\n",
       "      <td>5.082251</td>\n",
       "      <td>1.625754</td>\n",
       "      <td>-10.164502</td>\n",
       "      <td>-3.251509</td>\n",
       "    </tr>\n",
       "    <tr>\n",
       "      <td>2636</td>\n",
       "      <td>ley</td>\n",
       "      <td>5.078422</td>\n",
       "      <td>1.625000</td>\n",
       "      <td>-10.156843</td>\n",
       "      <td>-3.250001</td>\n",
       "    </tr>\n",
       "  </tbody>\n",
       "</table>\n",
       "</div>"
      ],
      "text/plain": [
       "           token     lambda  log lambda  -2 lambda  -2 log lambda\n",
       "1176         dat  10.963690    2.394589 -21.927381      -4.789178\n",
       "4443  tratamient   9.357990    2.236231 -18.715980      -4.472461\n",
       "836       compañ   9.061214    2.204003 -18.122429      -4.408006\n",
       "3267    personal   7.874946    2.063686 -15.749891      -4.127373\n",
       "1923       final   7.315323    1.989971 -14.630646      -3.979942\n",
       "537        boliv   7.034832    1.950874 -14.069663      -3.901748\n",
       "2090        grup   6.786006    1.914863 -13.572011      -3.829725\n",
       "2343      inform   6.653647    1.895165 -13.307293      -3.790330\n",
       "75         activ   6.600706    1.887177 -13.201412      -3.774353\n",
       "1270   desarroll   6.509820    1.873312 -13.019640      -3.746624\n",
       "2113         hac   6.152249    1.816818 -12.304497      -3.633635\n",
       "3446     previst   6.054509    1.800803 -12.109018      -3.601607\n",
       "3337       polit   5.646365    1.731012 -11.292730      -3.462024\n",
       "3459      privac   5.644278    1.730642 -11.288557      -3.461285\n",
       "981      contact   5.628242    1.727797 -11.256485      -3.455594\n",
       "4024     servici   5.094541    1.628170 -10.189082      -3.256339\n",
       "1256      derech   5.089657    1.627210 -10.179314      -3.254421\n",
       "3481     product   5.084423    1.626182 -10.168846      -3.252363\n",
       "3830     respons   5.082251    1.625754 -10.164502      -3.251509\n",
       "2636         ley   5.078422    1.625000 -10.156843      -3.250001"
      ]
     },
     "execution_count": 21,
     "metadata": {},
     "output_type": "execute_result"
    }
   ],
   "source": [
    "#Lista de textos dentro del corpus\n",
    "textos = os.listdir(ruta)\n",
    "\n",
    "lambda_bolivar = lambda_matrix.tolist()[textos.index('segurosbolivar-privacidad.txt')]\n",
    "lambda_log_bolivar = lambda_log_matrix.tolist()[textos.index('segurosbolivar-privacidad.txt')]\n",
    "lambda_bolivar_2 = lambda_matrix_2.tolist()[textos.index('segurosbolivar-privacidad.txt')]\n",
    "lambda_log_bolivar_2 = lambda_log_matrix_2.tolist()[textos.index('segurosbolivar-privacidad.txt')]\n",
    "\n",
    "\n",
    "data = [[id2token[i],lambda_bolivar[i],lambda_log_bolivar[i],\n",
    "         lambda_bolivar_2[i],lambda_log_bolivar_2[i]] for i in range(len(lambda_bolivar))]\n",
    "\n",
    "df = pd.DataFrame(data,columns=['token','lambda','log lambda','-2 lambda','-2 log lambda'])\n",
    "df_top = df.sort_values(by='lambda', ascending = False).head(20)\n",
    "df_top"
   ]
  },
  {
   "cell_type": "code",
   "execution_count": 23,
   "metadata": {},
   "outputs": [
    {
     "data": {
      "text/html": [
       "<div>\n",
       "<style scoped>\n",
       "    .dataframe tbody tr th:only-of-type {\n",
       "        vertical-align: middle;\n",
       "    }\n",
       "\n",
       "    .dataframe tbody tr th {\n",
       "        vertical-align: top;\n",
       "    }\n",
       "\n",
       "    .dataframe thead th {\n",
       "        text-align: right;\n",
       "    }\n",
       "</style>\n",
       "<table border=\"1\" class=\"dataframe\">\n",
       "  <thead>\n",
       "    <tr style=\"text-align: right;\">\n",
       "      <th></th>\n",
       "      <th>token</th>\n",
       "      <th>lambda</th>\n",
       "      <th>log lambda</th>\n",
       "      <th>-2 lambda</th>\n",
       "      <th>-2 log lambda</th>\n",
       "    </tr>\n",
       "  </thead>\n",
       "  <tbody>\n",
       "    <tr>\n",
       "      <td>2654</td>\n",
       "      <td>lider</td>\n",
       "      <td>0.998972</td>\n",
       "      <td>-0.001028</td>\n",
       "      <td>-1.997945</td>\n",
       "      <td>0.002056</td>\n",
       "    </tr>\n",
       "    <tr>\n",
       "      <td>2091</td>\n",
       "      <td>grupoboliv</td>\n",
       "      <td>0.998972</td>\n",
       "      <td>-0.001028</td>\n",
       "      <td>-1.997945</td>\n",
       "      <td>0.002056</td>\n",
       "    </tr>\n",
       "    <tr>\n",
       "      <td>989</td>\n",
       "      <td>conten</td>\n",
       "      <td>0.999985</td>\n",
       "      <td>-0.000015</td>\n",
       "      <td>-1.999971</td>\n",
       "      <td>0.000029</td>\n",
       "    </tr>\n",
       "    <tr>\n",
       "      <td>1136</td>\n",
       "      <td>cuent</td>\n",
       "      <td>0.999986</td>\n",
       "      <td>-0.000014</td>\n",
       "      <td>-1.999973</td>\n",
       "      <td>0.000027</td>\n",
       "    </tr>\n",
       "    <tr>\n",
       "      <td>286</td>\n",
       "      <td>aplic</td>\n",
       "      <td>0.999987</td>\n",
       "      <td>-0.000013</td>\n",
       "      <td>-1.999974</td>\n",
       "      <td>0.000026</td>\n",
       "    </tr>\n",
       "    <tr>\n",
       "      <td>904</td>\n",
       "      <td>condicion</td>\n",
       "      <td>0.999988</td>\n",
       "      <td>-0.000012</td>\n",
       "      <td>-1.999975</td>\n",
       "      <td>0.000025</td>\n",
       "    </tr>\n",
       "    <tr>\n",
       "      <td>4547</td>\n",
       "      <td>utiliz</td>\n",
       "      <td>0.999990</td>\n",
       "      <td>-0.000010</td>\n",
       "      <td>-1.999980</td>\n",
       "      <td>0.000020</td>\n",
       "    </tr>\n",
       "    <tr>\n",
       "      <td>2269</td>\n",
       "      <td>inclu</td>\n",
       "      <td>0.999990</td>\n",
       "      <td>-0.000010</td>\n",
       "      <td>-1.999980</td>\n",
       "      <td>0.000020</td>\n",
       "    </tr>\n",
       "    <tr>\n",
       "      <td>4087</td>\n",
       "      <td>siti</td>\n",
       "      <td>0.999990</td>\n",
       "      <td>-0.000010</td>\n",
       "      <td>-1.999981</td>\n",
       "      <td>0.000019</td>\n",
       "    </tr>\n",
       "    <tr>\n",
       "      <td>4334</td>\n",
       "      <td>tercer</td>\n",
       "      <td>0.999991</td>\n",
       "      <td>-0.000009</td>\n",
       "      <td>-1.999982</td>\n",
       "      <td>0.000018</td>\n",
       "    </tr>\n",
       "    <tr>\n",
       "      <td>1185</td>\n",
       "      <td>deb</td>\n",
       "      <td>0.999991</td>\n",
       "      <td>-0.000009</td>\n",
       "      <td>-1.999983</td>\n",
       "      <td>0.000017</td>\n",
       "    </tr>\n",
       "    <tr>\n",
       "      <td>3565</td>\n",
       "      <td>public</td>\n",
       "      <td>0.999992</td>\n",
       "      <td>-0.000008</td>\n",
       "      <td>-1.999983</td>\n",
       "      <td>0.000017</td>\n",
       "    </tr>\n",
       "    <tr>\n",
       "      <td>1209</td>\n",
       "      <td>deez</td>\n",
       "      <td>0.999992</td>\n",
       "      <td>-0.000008</td>\n",
       "      <td>-1.999984</td>\n",
       "      <td>0.000016</td>\n",
       "    </tr>\n",
       "    <tr>\n",
       "      <td>3154</td>\n",
       "      <td>pag</td>\n",
       "      <td>0.999992</td>\n",
       "      <td>-0.000008</td>\n",
       "      <td>-1.999984</td>\n",
       "      <td>0.000016</td>\n",
       "    </tr>\n",
       "    <tr>\n",
       "      <td>4337</td>\n",
       "      <td>termin</td>\n",
       "      <td>0.999992</td>\n",
       "      <td>-0.000008</td>\n",
       "      <td>-1.999984</td>\n",
       "      <td>0.000016</td>\n",
       "    </tr>\n",
       "    <tr>\n",
       "      <td>51</td>\n",
       "      <td>acept</td>\n",
       "      <td>0.999993</td>\n",
       "      <td>-0.000007</td>\n",
       "      <td>-1.999986</td>\n",
       "      <td>0.000014</td>\n",
       "    </tr>\n",
       "    <tr>\n",
       "      <td>3520</td>\n",
       "      <td>proporcion</td>\n",
       "      <td>0.999994</td>\n",
       "      <td>-0.000006</td>\n",
       "      <td>-1.999988</td>\n",
       "      <td>0.000012</td>\n",
       "    </tr>\n",
       "    <tr>\n",
       "      <td>2968</td>\n",
       "      <td>ningun</td>\n",
       "      <td>0.999994</td>\n",
       "      <td>-0.000006</td>\n",
       "      <td>-1.999989</td>\n",
       "      <td>0.000011</td>\n",
       "    </tr>\n",
       "    <tr>\n",
       "      <td>39</td>\n",
       "      <td>acces</td>\n",
       "      <td>0.999994</td>\n",
       "      <td>-0.000006</td>\n",
       "      <td>-1.999989</td>\n",
       "      <td>0.000011</td>\n",
       "    </tr>\n",
       "    <tr>\n",
       "      <td>429</td>\n",
       "      <td>autor</td>\n",
       "      <td>0.999994</td>\n",
       "      <td>-0.000006</td>\n",
       "      <td>-1.999989</td>\n",
       "      <td>0.000011</td>\n",
       "    </tr>\n",
       "  </tbody>\n",
       "</table>\n",
       "</div>"
      ],
      "text/plain": [
       "           token    lambda  log lambda  -2 lambda  -2 log lambda\n",
       "2654       lider  0.998972   -0.001028  -1.997945       0.002056\n",
       "2091  grupoboliv  0.998972   -0.001028  -1.997945       0.002056\n",
       "989       conten  0.999985   -0.000015  -1.999971       0.000029\n",
       "1136       cuent  0.999986   -0.000014  -1.999973       0.000027\n",
       "286        aplic  0.999987   -0.000013  -1.999974       0.000026\n",
       "904    condicion  0.999988   -0.000012  -1.999975       0.000025\n",
       "4547      utiliz  0.999990   -0.000010  -1.999980       0.000020\n",
       "2269       inclu  0.999990   -0.000010  -1.999980       0.000020\n",
       "4087        siti  0.999990   -0.000010  -1.999981       0.000019\n",
       "4334      tercer  0.999991   -0.000009  -1.999982       0.000018\n",
       "1185         deb  0.999991   -0.000009  -1.999983       0.000017\n",
       "3565      public  0.999992   -0.000008  -1.999983       0.000017\n",
       "1209        deez  0.999992   -0.000008  -1.999984       0.000016\n",
       "3154         pag  0.999992   -0.000008  -1.999984       0.000016\n",
       "4337      termin  0.999992   -0.000008  -1.999984       0.000016\n",
       "51         acept  0.999993   -0.000007  -1.999986       0.000014\n",
       "3520  proporcion  0.999994   -0.000006  -1.999988       0.000012\n",
       "2968      ningun  0.999994   -0.000006  -1.999989       0.000011\n",
       "39         acces  0.999994   -0.000006  -1.999989       0.000011\n",
       "429        autor  0.999994   -0.000006  -1.999989       0.000011"
      ]
     },
     "execution_count": 23,
     "metadata": {},
     "output_type": "execute_result"
    }
   ],
   "source": [
    "df_bottom = df.sort_values(by='lambda', ascending = True).head(20)\n",
    "df_bottom"
   ]
  },
  {
   "cell_type": "code",
   "execution_count": 14,
   "metadata": {},
   "outputs": [
    {
     "data": {
      "text/plain": [
       "5.627808712130095"
      ]
     },
     "execution_count": 14,
     "metadata": {},
     "output_type": "execute_result"
    }
   ],
   "source": [
    "chi2.pdf(0.005,1)"
   ]
  },
  {
   "cell_type": "code",
   "execution_count": 2,
   "metadata": {},
   "outputs": [
    {
     "data": {
      "text/plain": [
       "1.7400739347725862"
      ]
     },
     "execution_count": 2,
     "metadata": {},
     "output_type": "execute_result"
    }
   ],
   "source": [
    "chi2.pdf(0.05,1)"
   ]
  },
  {
   "cell_type": "code",
   "execution_count": 3,
   "metadata": {},
   "outputs": [
    {
     "data": {
      "text/plain": [
       "12.60935635549078"
      ]
     },
     "execution_count": 3,
     "metadata": {},
     "output_type": "execute_result"
    }
   ],
   "source": [
    "chi2.pdf(0.001,1)"
   ]
  },
  {
   "cell_type": "code",
   "execution_count": null,
   "metadata": {},
   "outputs": [],
   "source": []
  }
 ],
 "metadata": {
  "kernelspec": {
   "display_name": "Python 3",
   "language": "python",
   "name": "python3"
  },
  "language_info": {
   "codemirror_mode": {
    "name": "ipython",
    "version": 3
   },
   "file_extension": ".py",
   "mimetype": "text/x-python",
   "name": "python",
   "nbconvert_exporter": "python",
   "pygments_lexer": "ipython3",
   "version": "3.7.4"
  }
 },
 "nbformat": 4,
 "nbformat_minor": 4
}
