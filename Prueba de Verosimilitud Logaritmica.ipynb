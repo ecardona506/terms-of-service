{
 "cells": [
  {
   "cell_type": "markdown",
   "metadata": {},
   "source": [
    "# Prueba de Verosimilitud Logarítmica\n",
    "\n",
    "En este cuaderno se realizará la implementación de una prueba de verosimilitud logarítmica orientada a generar resúmenes.\n",
    "\n",
    "Para la implementación de esta técnica, se realizarán las siguientes fases:\n",
    "\n",
    "1. Cargar datos.\n",
    "2. Aplicar el preprocesamiento al nuevo corpus.\n",
    "3. Crear diccionarios para relacionar frases e identificadores \n",
    "4. Calcular matriz de verosimilitud logarítmica\n",
    "5. Determinar umbral (Determinar topic signatures).\n",
    "6. Ajustar topic signatures a un solo texto.\n",
    "7. Seleccionar frases\n",
    "8. Evaluar el resumen obtenido"
   ]
  },
  {
   "cell_type": "code",
   "execution_count": 35,
   "metadata": {},
   "outputs": [],
   "source": [
    "#Importar elementos necesarios de las librerías\n",
    "import os, shutil, re, pickle\n",
    "import numpy as np\n",
    "import pandas as pd\n",
    "import matplotlib.pyplot as plt\n",
    "from rouge import Rouge\n",
    "from nltk.corpus import PlaintextCorpusReader\n",
    "from nltk.stem.snowball import SpanishStemmer\n",
    "from scipy.stats import binom, chi2\n",
    "from sklearn.feature_extraction.text import CountVectorizer\n",
    "from scipy.sparse import csr_matrix"
   ]
  },
  {
   "cell_type": "code",
   "execution_count": 36,
   "metadata": {},
   "outputs": [],
   "source": [
    "#Funciones auxiliares\n",
    "\n",
    "def tokenize_sentence(path, file_name):\n",
    "    #Retorna un documento tokenizado por frases\n",
    "    doc = []\n",
    "    text = PlaintextCorpusReader(path, file_name)\n",
    "    paragraphs = text.paras()\n",
    "    for paragraph in paragraphs:\n",
    "        for sentence in paragraph:\n",
    "            low, i = 0,0\n",
    "            while i < len(sentence):\n",
    "                token = sentence[i].split('.')\n",
    "                if len(token)-1:\n",
    "                    doc.append(sentence[low:i])\n",
    "                    low=i+1\n",
    "                    i+=2\n",
    "                else:\n",
    "                    i+=1\n",
    "            if low!=i-1:\n",
    "                doc.append(sentence[low:i])\n",
    "    return doc\n",
    "\n",
    "def preprocess(doc, stopwords, stemmer):\n",
    "    #Aplica el preprocesamiento establecido\n",
    "    #Adicionalmente, retorna el documento original sin las filas vacías por el preprocesamiento \n",
    "    doc_preprocesed, doc_reduced = [], []\n",
    "    for original_sentence in doc:\n",
    "        preprocessed_sentence = []\n",
    "        for token in original_sentence:\n",
    "            if stemmer.stem(token) not in stopwords:\n",
    "                preprocessed_sentence.append(stemmer.stem(token))\n",
    "        if len(preprocessed_sentence) and preprocessed_sentence not in doc_preprocesed:\n",
    "            doc_preprocesed.append(preprocessed_sentence)\n",
    "            doc_reduced.append(original_sentence)\n",
    "    return doc_preprocesed, doc_reduced\n",
    "\n",
    "def get_dictionaries(doc):\n",
    "    #Retorna un par de diccionarios que relacionan una frase con un id, y un id con una frase.\n",
    "    sentence2id, id2sentence = {},{}\n",
    "    n_sentences = len(doc)\n",
    "    for i in range(n_sentences):\n",
    "        sentence = ' '.join(doc[i])\n",
    "        if sentence not in sentence2id:\n",
    "            sentence2id[sentence] = i\n",
    "            id2sentence[i] = sentence\n",
    "    return sentence2id, id2sentence\n",
    "\n",
    "def reverse_dict(dictionary):\n",
    "    #Invierte el sentido de un diccionario\n",
    "    reverse = {}\n",
    "    for k,v in dictionary.items():\n",
    "        reverse[v] = k\n",
    "    return reverse\n",
    "\n",
    "def log_likelihood_ratio(bag_of_words):\n",
    "    #Calcula la matriz -2 lambda\n",
    "    tokens_per_document = bag_of_words.sum(1)\n",
    "    ocurrences = bag_of_words.sum(0)\n",
    "    total_tokens = bag_of_words.sum(0).sum(1)[0,0]\n",
    "    n_documents,m_tokens = bag_of_words.shape\n",
    "    loglikelihood_general = []\n",
    "    for i in range(m_tokens):\n",
    "        ocurrences_general = ocurrences[0,i]\n",
    "        loglikelihood = binom.pmf(ocurrences_general, total_tokens,ocurrences_general/total_tokens)\n",
    "        loglikelihood_general.append(loglikelihood)\n",
    "    data = []\n",
    "    for i in range(n_documents):\n",
    "        row = []\n",
    "        tokens_input = tokens_per_document[i,0]\n",
    "        tokens_background = total_tokens - tokens_input\n",
    "        for j in range(m_tokens):\n",
    "            ocurrences_total = ocurrences[0,j]\n",
    "            ocurrences_input = bag_of_words[i,j]\n",
    "            ocurrences_background = ocurrences_total - ocurrences_input\n",
    "            loglikelihood_input = binom.pmf(ocurrences_input, tokens_input, ocurrences_input/tokens_input)\n",
    "            loglikelihood_background = binom.pmf(ocurrences_background, tokens_background, ocurrences_background/tokens_background)\n",
    "            ratio = loglikelihood_general[j]/(loglikelihood_input*loglikelihood_background)\n",
    "            row.append(ratio)\n",
    "        data.append(row)\n",
    "    lambda_matrix = np.array(data,dtype=np.float64)\n",
    "    lambda_log_matrix = np.log(data)\n",
    "    lambda_matrix_2 = lambda_matrix*-2\n",
    "    lambda_log_matrix_2 = lambda_log_matrix*-2\n",
    "    return lambda_matrix, lambda_log_matrix, lambda_matrix_2, lambda_log_matrix_2\n",
    "    #Corregir posteriormente para solo retornar una de estas\n",
    "\n",
    "def corpus_topic_signatures(log_likelihood_matrix, treshold):\n",
    "    #Crea una matriz con los topic signatures a partir de la matriz -2lambda y el umbral\n",
    "    data, col_index, row_index = [],[],[]\n",
    "    n_documents, m_tokens = log_likelihood_matrix.shape\n",
    "    for i in range(n_documents):\n",
    "        for j in range(m_tokens):\n",
    "            if log_likelihood_matrix[i,j] >= treshold:\n",
    "                row_index.append(i)\n",
    "                col_index.append(j)\n",
    "                data.append(1)\n",
    "    data = np.array(data)\n",
    "    row_index = np.array(row_index)\n",
    "    col_index = np.array(col_index)\n",
    "    topic_signatures = csr_matrix((data,(row_index,col_index)),shape=(n_documents, m_tokens),dtype=np.float64)\n",
    "    return topic_signatures\n",
    "\n",
    "def document_topic_signatures(document, topic_signatures, token2id, doc_id):\n",
    "    #Construye una matriz de un solo documento de acuerdo a la matriz de topic signatures \n",
    "    data,row_index,col_index = [],[],[]\n",
    "    topic_signatures = topic_signatures.toarray()\n",
    "    n_sentences, m_tokens = len(document), len(token2id)\n",
    "    for i in range(n_sentences):\n",
    "        sentence = document[i]\n",
    "        j = 0\n",
    "        for token in sentence:\n",
    "            if token in token2id and topic_signatures[doc_id,token2id[token]] == 1:\n",
    "                if (j==0) or (j>0 and token2id[token] not in col_index[-j:]):\n",
    "                    topic_signature_value = topic_signatures[doc_id,token2id[token]]\n",
    "                    data.append(topic_signature_value)\n",
    "                    row_index.append(i)\n",
    "                    col_index.append(token2id[token])\n",
    "                    j+=1\n",
    "    data = np.array(data)\n",
    "    row_index = np.array(row_index)\n",
    "    col_index = np.array(col_index)\n",
    "    topic_signatures_document = csr_matrix((data,(row_index,col_index)),shape=(n_sentences, m_tokens),dtype=np.float64)\n",
    "    return topic_signatures_document\n",
    "\n",
    "def generate_summary(topic_signatures, n_sentences, sentence2id):\n",
    "    #Genera un resumen con un total de n_sentences frases\n",
    "    total_sentences = topic_signatures.shape[0]\n",
    "    assert n_sentences < total_sentences\n",
    "    topic_signatures = topic_signatures.toarray().sum(1)\n",
    "    df = pd.DataFrame(topic_signatures,columns = ['topic signatures'])\n",
    "    df['sentence'] = sentence2id.keys()\n",
    "    df = df.sort_values(by='topic signatures', ascending = False)\n",
    "    summary = []\n",
    "    i,flag=0,1\n",
    "    while i < n_sentences and flag:\n",
    "        sentence = df.iloc[i]['sentence']\n",
    "        flag = df.iloc[i]['topic signatures']\n",
    "        if flag:\n",
    "            summary.append(sentence)\n",
    "        i+=1\n",
    "    assert summary != []\n",
    "    return summary, df\n",
    "\n",
    "def read_reference(path, filename):\n",
    "    text = PlaintextCorpusReader(path, filename)\n",
    "    text = text.paras()\n",
    "    flat = []\n",
    "    for sentences in text:\n",
    "        for sentence in sentences:\n",
    "            flat_sentence = ' '.join(sentence)\n",
    "            flat.append(flat_sentence)\n",
    "    reference = ' '.join(flat)\n",
    "    return reference"
   ]
  },
  {
   "cell_type": "markdown",
   "metadata": {},
   "source": [
    "## Fase 1. Cargar datos"
   ]
  },
  {
   "cell_type": "code",
   "execution_count": 37,
   "metadata": {},
   "outputs": [],
   "source": [
    "#Cargar las stopwords obtenido en preprocesamiento.\n",
    "filename = 'stopwords.pkl'\n",
    "stopwords = pickle.load(open(filename, 'rb'))\n",
    "\n",
    "#Carga el corpus usado para el preprocesamiento\n",
    "filename = 'corpus_single_string.pkl'\n",
    "corpus = pickle.load(open(filename, 'rb'))"
   ]
  },
  {
   "cell_type": "markdown",
   "metadata": {},
   "source": [
    "## Fase 2. Aplicar preprocesamiento\n",
    "### Tokenización por frases"
   ]
  },
  {
   "cell_type": "code",
   "execution_count": 38,
   "metadata": {},
   "outputs": [],
   "source": [
    "ruta = \"D:/Documents/Documentos Universidad/Noveno/Proyecto de grado/textos\"\n",
    "stemmer = SpanishStemmer()\n",
    "bolivar = tokenize_sentence(ruta, 'segurosbolivar-privacidad.txt')\n",
    "mozilla = tokenize_sentence(ruta, 'mozilla-privacidad.txt')"
   ]
  },
  {
   "cell_type": "markdown",
   "metadata": {},
   "source": [
    "### Stopwords y Stemming"
   ]
  },
  {
   "cell_type": "code",
   "execution_count": 39,
   "metadata": {},
   "outputs": [],
   "source": [
    "bolivar_preprocesado, bolivar = preprocess(bolivar, stopwords, stemmer)\n",
    "mozilla_preprocesado, mozilla = preprocess(mozilla, stopwords, stemmer)"
   ]
  },
  {
   "cell_type": "markdown",
   "metadata": {},
   "source": [
    "## Fase 3. Crear diccionarios para relacionar frases e identificadores "
   ]
  },
  {
   "cell_type": "code",
   "execution_count": 40,
   "metadata": {},
   "outputs": [],
   "source": [
    "frase2id_bolivar, id2frase_bolivar = get_dictionaries(bolivar)\n",
    "frase2id_mozilla, id2frase_mozilla = get_dictionaries(mozilla)"
   ]
  },
  {
   "cell_type": "markdown",
   "metadata": {},
   "source": [
    "## Fase 4. Calcular matriz de verosimilitud logarítmica"
   ]
  },
  {
   "cell_type": "code",
   "execution_count": 41,
   "metadata": {},
   "outputs": [],
   "source": [
    "vectorizer = CountVectorizer(stop_words = stopwords)\n",
    "bag_of_words = vectorizer.fit_transform(corpus)\n",
    "\n",
    "#Diccionario que relaciona tokens con un identificador único\n",
    "token2id = vectorizer.vocabulary_\n",
    "\n",
    "#Diccionario que un identificador con un token\n",
    "id2token = reverse_dict(token2id)"
   ]
  },
  {
   "cell_type": "code",
   "execution_count": 42,
   "metadata": {},
   "outputs": [],
   "source": [
    "lambda_matrix, lambda_log_matrix, lambda_matrix_2, lambda_log_matrix_2 = log_likelihood_ratio(bag_of_words)\n",
    "\n",
    "#log_likelihood, general, ocurrences = log_likelihood_ratio(bag_of_words)\n",
    "#log_likelihood\n",
    "#Pruebas\n",
    "#general[token2id['acced']]"
   ]
  },
  {
   "cell_type": "code",
   "execution_count": 43,
   "metadata": {},
   "outputs": [
    {
     "data": {
      "text/plain": [
       "3.6763415495439085"
      ]
     },
     "execution_count": 43,
     "metadata": {},
     "output_type": "execute_result"
    }
   ],
   "source": [
    "#Sin multiplicar por -2 (Pruebas)\n",
    "lambda_matrix[38,token2id['acced']]"
   ]
  },
  {
   "cell_type": "code",
   "execution_count": 44,
   "metadata": {},
   "outputs": [
    {
     "data": {
      "text/plain": [
       "3.6763415495439085"
      ]
     },
     "execution_count": 44,
     "metadata": {},
     "output_type": "execute_result"
    }
   ],
   "source": [
    "#Multiplicando por -2 (Pruebas)\n",
    "lambda_matrix[38,token2id['acced']]"
   ]
  },
  {
   "cell_type": "code",
   "execution_count": 45,
   "metadata": {},
   "outputs": [
    {
     "data": {
      "text/plain": [
       "(56, 4740)"
      ]
     },
     "execution_count": 45,
     "metadata": {},
     "output_type": "execute_result"
    }
   ],
   "source": [
    "lambda_matrix.shape"
   ]
  },
  {
   "cell_type": "markdown",
   "metadata": {},
   "source": [
    "## Fase 5. Determinar umbral (Determinar topic signatures). "
   ]
  },
  {
   "cell_type": "code",
   "execution_count": 46,
   "metadata": {},
   "outputs": [
    {
     "data": {
      "text/plain": [
       "array([[0., 0., 0., ..., 0., 0., 0.],\n",
       "       [0., 0., 0., ..., 0., 0., 0.],\n",
       "       [0., 0., 0., ..., 0., 0., 0.],\n",
       "       ...,\n",
       "       [0., 0., 0., ..., 0., 0., 0.],\n",
       "       [0., 0., 0., ..., 0., 0., 0.],\n",
       "       [0., 0., 0., ..., 0., 0., 0.]])"
      ]
     },
     "execution_count": 46,
     "metadata": {},
     "output_type": "execute_result"
    }
   ],
   "source": [
    "topic_signatures_0_025 = corpus_topic_signatures(lambda_matrix,5.0239)\n",
    "topic_signatures_0_010 = corpus_topic_signatures(lambda_matrix,6.6349)\n",
    "topic_signatures_0_005 = corpus_topic_signatures(lambda_matrix,7.8794)\n",
    "topic_signatures_0_001 = corpus_topic_signatures(lambda_matrix,10.8276)\n",
    "\n",
    "\n",
    "topic_signatures_0_025.toarray()"
   ]
  },
  {
   "cell_type": "code",
   "execution_count": 47,
   "metadata": {},
   "outputs": [
    {
     "data": {
      "text/plain": [
       "(56, 4740)"
      ]
     },
     "execution_count": 47,
     "metadata": {},
     "output_type": "execute_result"
    }
   ],
   "source": [
    "topic_signatures_0_025.shape"
   ]
  },
  {
   "cell_type": "markdown",
   "metadata": {},
   "source": [
    "### Comprobar cantidad de topic signatures encontradas dentro del corpus"
   ]
  },
  {
   "cell_type": "code",
   "execution_count": 48,
   "metadata": {},
   "outputs": [
    {
     "data": {
      "text/plain": [
       "array([230., 158., 108., 143., 148.,  56., 142., 440., 220., 147.,  36.,\n",
       "        29., 114., 131., 166., 102., 118., 136.,  14.,  10., 109., 228.,\n",
       "       136., 135., 189.,  18.,  79., 158.,  97.,  49.,  64., 205., 156.,\n",
       "        94., 149., 327., 204., 101.,  29., 264., 154., 261., 148.,  44.,\n",
       "       180., 171., 126., 112.,  41., 262., 198., 214., 182., 134., 105.,\n",
       "       193.])"
      ]
     },
     "execution_count": 48,
     "metadata": {},
     "output_type": "execute_result"
    }
   ],
   "source": [
    "#Pruebas para mirar la cantidad de topic signatures dentro de todo el corpus\n",
    "topic_signatures_0_025.toarray().sum(1)"
   ]
  },
  {
   "cell_type": "code",
   "execution_count": 49,
   "metadata": {},
   "outputs": [
    {
     "data": {
      "text/plain": [
       "array([110.,  85.,  48.,  76.,  80.,  21.,  53., 278., 114.,  68.,  12.,\n",
       "         6.,  60.,  68.,  80.,  51.,  63.,  66.,   3.,   4.,  41., 110.,\n",
       "        58.,  71., 106.,   2.,  41.,  80.,  43.,  23.,  25., 111.,  86.,\n",
       "        37.,  71., 183.,  96.,  43.,   8., 152.,  78., 149.,  72.,  20.,\n",
       "        81.,  67.,  53.,  48.,  14., 147., 118., 109.,  99.,  65.,  56.,\n",
       "       105.])"
      ]
     },
     "execution_count": 49,
     "metadata": {},
     "output_type": "execute_result"
    }
   ],
   "source": [
    "#Pruebas para mirar la cantidad de topic signatures dentro de todo el corpus\n",
    "topic_signatures_0_010.toarray().sum(1)"
   ]
  },
  {
   "cell_type": "code",
   "execution_count": 18,
   "metadata": {},
   "outputs": [
    {
     "data": {
      "text/plain": [
       "array([ 65.,  50.,  31.,  47.,  50.,  10.,  29., 199.,  74.,  40.,   6.,\n",
       "         3.,  37.,  49.,  51.,  23.,  43.,  42.,   2.,   1.,  23.,  84.,\n",
       "        32.,  43.,  71.,   2.,  20.,  52.,  25.,  16.,  16.,  71.,  57.,\n",
       "        24.,  41., 117.,  56.,  25.,   3., 103.,  47.,  89.,  41.,  13.,\n",
       "        51.,  33.,  31.,  30.,   8., 104.,  80.,  70.,  69.,  41.,  34.,\n",
       "        68.])"
      ]
     },
     "execution_count": 18,
     "metadata": {},
     "output_type": "execute_result"
    }
   ],
   "source": [
    "#Pruebas para mirar la cantidad de topic signatures dentro de todo el corpus\n",
    "topic_signatures_0_005.toarray().sum(1)"
   ]
  },
  {
   "cell_type": "code",
   "execution_count": 50,
   "metadata": {},
   "outputs": [
    {
     "data": {
      "text/plain": [
       "array([32., 17., 11., 19., 27.,  3.,  8., 93., 27., 14.,  1.,  0., 10.,\n",
       "       20., 19.,  9.,  8., 19.,  0.,  0.,  9., 32.,  8., 16., 33.,  1.,\n",
       "        7., 17., 10.,  6.,  4., 31., 19., 10., 15., 47., 22., 10.,  1.,\n",
       "       40., 12., 39., 18.,  3., 16., 12.,  9., 11.,  5., 40., 32., 23.,\n",
       "       28., 14., 10., 25.])"
      ]
     },
     "execution_count": 50,
     "metadata": {},
     "output_type": "execute_result"
    }
   ],
   "source": [
    "topic_signatures_0_001.toarray().sum(1)"
   ]
  },
  {
   "cell_type": "markdown",
   "metadata": {},
   "source": [
    "## Fase 6. Ajustar topic signatures a un solo texto."
   ]
  },
  {
   "cell_type": "code",
   "execution_count": 19,
   "metadata": {},
   "outputs": [
    {
     "data": {
      "text/plain": [
       "(55, 4740)"
      ]
     },
     "execution_count": 19,
     "metadata": {},
     "output_type": "execute_result"
    }
   ],
   "source": [
    "#Lista de textos dentro del corpus\n",
    "textos = os.listdir(ruta)\n",
    "\n",
    "topic_signatures_bolivar_0_025 = document_topic_signatures(bolivar_preprocesado, topic_signatures_0_025, token2id, textos.index('segurosbolivar-privacidad.txt'))\n",
    "topic_signatures_bolivar_0_010 = document_topic_signatures(bolivar_preprocesado, topic_signatures_0_010, token2id, textos.index('segurosbolivar-privacidad.txt'))\n",
    "topic_signatures_bolivar_0_005 = document_topic_signatures(bolivar_preprocesado, topic_signatures_0_005, token2id, textos.index('segurosbolivar-privacidad.txt'))\n",
    "topic_signatures_bolivar_0_025.shape"
   ]
  },
  {
   "cell_type": "markdown",
   "metadata": {},
   "source": [
    "## Fase 7. Seleccionar frases"
   ]
  },
  {
   "cell_type": "code",
   "execution_count": 20,
   "metadata": {},
   "outputs": [],
   "source": [
    "resumen_0_025, df_0_025 = generate_summary(topic_signatures_bolivar_0_025, 5, frase2id_bolivar)\n",
    "resumen_0_010, df_0_010 = generate_summary(topic_signatures_bolivar_0_010, 5, frase2id_bolivar)\n",
    "resumen_0_005, df_0_005 = generate_summary(topic_signatures_bolivar_0_005, 5, frase2id_bolivar)"
   ]
  },
  {
   "cell_type": "markdown",
   "metadata": {},
   "source": [
    "### Dataframes"
   ]
  },
  {
   "cell_type": "code",
   "execution_count": 21,
   "metadata": {},
   "outputs": [
    {
     "data": {
      "text/html": [
       "<div>\n",
       "<style scoped>\n",
       "    .dataframe tbody tr th:only-of-type {\n",
       "        vertical-align: middle;\n",
       "    }\n",
       "\n",
       "    .dataframe tbody tr th {\n",
       "        vertical-align: top;\n",
       "    }\n",
       "\n",
       "    .dataframe thead th {\n",
       "        text-align: right;\n",
       "    }\n",
       "</style>\n",
       "<table border=\"1\" class=\"dataframe\">\n",
       "  <thead>\n",
       "    <tr style=\"text-align: right;\">\n",
       "      <th></th>\n",
       "      <th>topic signatures</th>\n",
       "      <th>sentence</th>\n",
       "    </tr>\n",
       "  </thead>\n",
       "  <tbody>\n",
       "    <tr>\n",
       "      <td>17</td>\n",
       "      <td>12.0</td>\n",
       "      <td>LAS COMPAÑÍAS han identificado los datos que a...</td>\n",
       "    </tr>\n",
       "    <tr>\n",
       "      <td>8</td>\n",
       "      <td>9.0</td>\n",
       "      <td>com , ponemos a su disposición el presente Avi...</td>\n",
       "    </tr>\n",
       "    <tr>\n",
       "      <td>26</td>\n",
       "      <td>7.0</td>\n",
       "      <td>Declaro que , con base en dicho conocimiento ,...</td>\n",
       "    </tr>\n",
       "    <tr>\n",
       "      <td>43</td>\n",
       "      <td>7.0</td>\n",
       "      <td>Solicitar prueba de la autorización otorgada a...</td>\n",
       "    </tr>\n",
       "    <tr>\n",
       "      <td>31</td>\n",
       "      <td>6.0</td>\n",
       "      <td>Enviar material publicitario , o promocional s...</td>\n",
       "    </tr>\n",
       "    <tr>\n",
       "      <td>40</td>\n",
       "      <td>5.0</td>\n",
       "      <td>Como Titular de datos personales usted tiene l...</td>\n",
       "    </tr>\n",
       "    <tr>\n",
       "      <td>22</td>\n",
       "      <td>5.0</td>\n",
       "      <td>LAS COMPAÑÍAS hacen parte del Grupo Bolívar , ...</td>\n",
       "    </tr>\n",
       "    <tr>\n",
       "      <td>0</td>\n",
       "      <td>5.0</td>\n",
       "      <td>Políticas de privacidad de Seguros Bolívar Avi...</td>\n",
       "    </tr>\n",
       "    <tr>\n",
       "      <td>42</td>\n",
       "      <td>5.0</td>\n",
       "      <td>Este derecho se podrá ejercer , entre otros fr...</td>\n",
       "    </tr>\n",
       "    <tr>\n",
       "      <td>44</td>\n",
       "      <td>5.0</td>\n",
       "      <td>Ser informado por el Responsable del Tratamien...</td>\n",
       "    </tr>\n",
       "  </tbody>\n",
       "</table>\n",
       "</div>"
      ],
      "text/plain": [
       "    topic signatures                                           sentence\n",
       "17              12.0  LAS COMPAÑÍAS han identificado los datos que a...\n",
       "8                9.0  com , ponemos a su disposición el presente Avi...\n",
       "26               7.0  Declaro que , con base en dicho conocimiento ,...\n",
       "43               7.0  Solicitar prueba de la autorización otorgada a...\n",
       "31               6.0  Enviar material publicitario , o promocional s...\n",
       "40               5.0  Como Titular de datos personales usted tiene l...\n",
       "22               5.0  LAS COMPAÑÍAS hacen parte del Grupo Bolívar , ...\n",
       "0                5.0  Políticas de privacidad de Seguros Bolívar Avi...\n",
       "42               5.0  Este derecho se podrá ejercer , entre otros fr...\n",
       "44               5.0  Ser informado por el Responsable del Tratamien..."
      ]
     },
     "execution_count": 21,
     "metadata": {},
     "output_type": "execute_result"
    }
   ],
   "source": [
    "df_0_025.head(10)"
   ]
  },
  {
   "cell_type": "code",
   "execution_count": 22,
   "metadata": {},
   "outputs": [
    {
     "data": {
      "text/html": [
       "<div>\n",
       "<style scoped>\n",
       "    .dataframe tbody tr th:only-of-type {\n",
       "        vertical-align: middle;\n",
       "    }\n",
       "\n",
       "    .dataframe tbody tr th {\n",
       "        vertical-align: top;\n",
       "    }\n",
       "\n",
       "    .dataframe thead th {\n",
       "        text-align: right;\n",
       "    }\n",
       "</style>\n",
       "<table border=\"1\" class=\"dataframe\">\n",
       "  <thead>\n",
       "    <tr style=\"text-align: right;\">\n",
       "      <th></th>\n",
       "      <th>topic signatures</th>\n",
       "      <th>sentence</th>\n",
       "    </tr>\n",
       "  </thead>\n",
       "  <tbody>\n",
       "    <tr>\n",
       "      <td>8</td>\n",
       "      <td>5.0</td>\n",
       "      <td>com , ponemos a su disposición el presente Avi...</td>\n",
       "    </tr>\n",
       "    <tr>\n",
       "      <td>17</td>\n",
       "      <td>5.0</td>\n",
       "      <td>LAS COMPAÑÍAS han identificado los datos que a...</td>\n",
       "    </tr>\n",
       "    <tr>\n",
       "      <td>26</td>\n",
       "      <td>4.0</td>\n",
       "      <td>Declaro que , con base en dicho conocimiento ,...</td>\n",
       "    </tr>\n",
       "    <tr>\n",
       "      <td>44</td>\n",
       "      <td>4.0</td>\n",
       "      <td>Ser informado por el Responsable del Tratamien...</td>\n",
       "    </tr>\n",
       "    <tr>\n",
       "      <td>27</td>\n",
       "      <td>3.0</td>\n",
       "      <td>Mis datos personales serán tratados para las s...</td>\n",
       "    </tr>\n",
       "    <tr>\n",
       "      <td>41</td>\n",
       "      <td>3.0</td>\n",
       "      <td>Conocer , actualizar y rectificar sus datos pe...</td>\n",
       "    </tr>\n",
       "    <tr>\n",
       "      <td>22</td>\n",
       "      <td>3.0</td>\n",
       "      <td>LAS COMPAÑÍAS hacen parte del Grupo Bolívar , ...</td>\n",
       "    </tr>\n",
       "    <tr>\n",
       "      <td>21</td>\n",
       "      <td>3.0</td>\n",
       "      <td>Finalidad expresa de compartir los datos con l...</td>\n",
       "    </tr>\n",
       "    <tr>\n",
       "      <td>48</td>\n",
       "      <td>3.0</td>\n",
       "      <td>Acceder en forma gratuita a sus datos personal...</td>\n",
       "    </tr>\n",
       "    <tr>\n",
       "      <td>20</td>\n",
       "      <td>3.0</td>\n",
       "      <td>Finalidad expresa de compartir los datos con l...</td>\n",
       "    </tr>\n",
       "  </tbody>\n",
       "</table>\n",
       "</div>"
      ],
      "text/plain": [
       "    topic signatures                                           sentence\n",
       "8                5.0  com , ponemos a su disposición el presente Avi...\n",
       "17               5.0  LAS COMPAÑÍAS han identificado los datos que a...\n",
       "26               4.0  Declaro que , con base en dicho conocimiento ,...\n",
       "44               4.0  Ser informado por el Responsable del Tratamien...\n",
       "27               3.0  Mis datos personales serán tratados para las s...\n",
       "41               3.0  Conocer , actualizar y rectificar sus datos pe...\n",
       "22               3.0  LAS COMPAÑÍAS hacen parte del Grupo Bolívar , ...\n",
       "21               3.0  Finalidad expresa de compartir los datos con l...\n",
       "48               3.0  Acceder en forma gratuita a sus datos personal...\n",
       "20               3.0  Finalidad expresa de compartir los datos con l..."
      ]
     },
     "execution_count": 22,
     "metadata": {},
     "output_type": "execute_result"
    }
   ],
   "source": [
    "df_0_010.head(10)"
   ]
  },
  {
   "cell_type": "code",
   "execution_count": 23,
   "metadata": {},
   "outputs": [
    {
     "data": {
      "text/html": [
       "<div>\n",
       "<style scoped>\n",
       "    .dataframe tbody tr th:only-of-type {\n",
       "        vertical-align: middle;\n",
       "    }\n",
       "\n",
       "    .dataframe tbody tr th {\n",
       "        vertical-align: top;\n",
       "    }\n",
       "\n",
       "    .dataframe thead th {\n",
       "        text-align: right;\n",
       "    }\n",
       "</style>\n",
       "<table border=\"1\" class=\"dataframe\">\n",
       "  <thead>\n",
       "    <tr style=\"text-align: right;\">\n",
       "      <th></th>\n",
       "      <th>topic signatures</th>\n",
       "      <th>sentence</th>\n",
       "    </tr>\n",
       "  </thead>\n",
       "  <tbody>\n",
       "    <tr>\n",
       "      <td>17</td>\n",
       "      <td>3.0</td>\n",
       "      <td>LAS COMPAÑÍAS han identificado los datos que a...</td>\n",
       "    </tr>\n",
       "    <tr>\n",
       "      <td>16</td>\n",
       "      <td>3.0</td>\n",
       "      <td>com 1 - Tratamientos de los datos administrado...</td>\n",
       "    </tr>\n",
       "    <tr>\n",
       "      <td>8</td>\n",
       "      <td>3.0</td>\n",
       "      <td>com , ponemos a su disposición el presente Avi...</td>\n",
       "    </tr>\n",
       "    <tr>\n",
       "      <td>48</td>\n",
       "      <td>2.0</td>\n",
       "      <td>Acceder en forma gratuita a sus datos personal...</td>\n",
       "    </tr>\n",
       "    <tr>\n",
       "      <td>44</td>\n",
       "      <td>2.0</td>\n",
       "      <td>Ser informado por el Responsable del Tratamien...</td>\n",
       "    </tr>\n",
       "    <tr>\n",
       "      <td>46</td>\n",
       "      <td>2.0</td>\n",
       "      <td>Revocar la autorización y / o solicitar la sup...</td>\n",
       "    </tr>\n",
       "    <tr>\n",
       "      <td>41</td>\n",
       "      <td>2.0</td>\n",
       "      <td>Conocer , actualizar y rectificar sus datos pe...</td>\n",
       "    </tr>\n",
       "    <tr>\n",
       "      <td>42</td>\n",
       "      <td>2.0</td>\n",
       "      <td>Este derecho se podrá ejercer , entre otros fr...</td>\n",
       "    </tr>\n",
       "    <tr>\n",
       "      <td>21</td>\n",
       "      <td>1.0</td>\n",
       "      <td>Finalidad expresa de compartir los datos con l...</td>\n",
       "    </tr>\n",
       "    <tr>\n",
       "      <td>22</td>\n",
       "      <td>1.0</td>\n",
       "      <td>LAS COMPAÑÍAS hacen parte del Grupo Bolívar , ...</td>\n",
       "    </tr>\n",
       "  </tbody>\n",
       "</table>\n",
       "</div>"
      ],
      "text/plain": [
       "    topic signatures                                           sentence\n",
       "17               3.0  LAS COMPAÑÍAS han identificado los datos que a...\n",
       "16               3.0  com 1 - Tratamientos de los datos administrado...\n",
       "8                3.0  com , ponemos a su disposición el presente Avi...\n",
       "48               2.0  Acceder en forma gratuita a sus datos personal...\n",
       "44               2.0  Ser informado por el Responsable del Tratamien...\n",
       "46               2.0  Revocar la autorización y / o solicitar la sup...\n",
       "41               2.0  Conocer , actualizar y rectificar sus datos pe...\n",
       "42               2.0  Este derecho se podrá ejercer , entre otros fr...\n",
       "21               1.0  Finalidad expresa de compartir los datos con l...\n",
       "22               1.0  LAS COMPAÑÍAS hacen parte del Grupo Bolívar , ..."
      ]
     },
     "execution_count": 23,
     "metadata": {},
     "output_type": "execute_result"
    }
   ],
   "source": [
    "df_0_005.head(10)"
   ]
  },
  {
   "cell_type": "markdown",
   "metadata": {},
   "source": [
    "### Resumenes"
   ]
  },
  {
   "cell_type": "code",
   "execution_count": 24,
   "metadata": {},
   "outputs": [
    {
     "data": {
      "text/plain": [
       "['LAS COMPAÑÍAS han identificado los datos que administran , así como las actividades que desarrollan con dichos datos , en particular su recepción , conservación , disposición para los fines propios del contrato y desarrollo de actividades complementarias referidas a la promoción y el mercadeo de sus productos y servicios , así como los ofrecidos por las Compañías que hacen parte del Grupo Bolívar , al cual éstas pertenecen y así lo han indicado en las Políticas del Tratamiento disponibles para su consulta en la página web www',\n",
       " 'com , ponemos a su disposición el presente Aviso de Privacidad que busca informar al Titular de datos personales acerca de la existencia de las Políticas de Tratamiento de información que han sido adoptadas por LAS COMPAÑÍAS , la forma de acceder a éstas y las características del Tratamiento que se le pretende dar a los datos',\n",
       " 'Declaro que , con base en dicho conocimiento , autorizo para que LAS COMPAÑÍAS compartan con dichas empresas y entidades la información personal de contacto y la que sea relevante para las finalidades aquí previstas , que he suministrado',\n",
       " 'Solicitar prueba de la autorización otorgada al Responsable del Tratamiento salvo cuando expresamente se exceptúe como requisito para el Tratamiento , de conformidad con lo previsto en el artículo 10 de la presente ley',\n",
       " 'Enviar material publicitario , o promocional sobre los servicios y productos de LAS COMPAÑÍAS del Grupo y las actividades desarrolladas por las Fundaciones']"
      ]
     },
     "execution_count": 24,
     "metadata": {},
     "output_type": "execute_result"
    }
   ],
   "source": [
    "resumen_0_025"
   ]
  },
  {
   "cell_type": "code",
   "execution_count": 25,
   "metadata": {},
   "outputs": [
    {
     "data": {
      "text/plain": [
       "['com , ponemos a su disposición el presente Aviso de Privacidad que busca informar al Titular de datos personales acerca de la existencia de las Políticas de Tratamiento de información que han sido adoptadas por LAS COMPAÑÍAS , la forma de acceder a éstas y las características del Tratamiento que se le pretende dar a los datos',\n",
       " 'LAS COMPAÑÍAS han identificado los datos que administran , así como las actividades que desarrollan con dichos datos , en particular su recepción , conservación , disposición para los fines propios del contrato y desarrollo de actividades complementarias referidas a la promoción y el mercadeo de sus productos y servicios , así como los ofrecidos por las Compañías que hacen parte del Grupo Bolívar , al cual éstas pertenecen y así lo han indicado en las Políticas del Tratamiento disponibles para su consulta en la página web www',\n",
       " 'Declaro que , con base en dicho conocimiento , autorizo para que LAS COMPAÑÍAS compartan con dichas empresas y entidades la información personal de contacto y la que sea relevante para las finalidades aquí previstas , que he suministrado',\n",
       " 'Ser informado por el Responsable del Tratamiento o el Encargado del Tratamiento , previa solicitud , respecto del uso que le ha dado a sus datos personales',\n",
       " 'Mis datos personales serán tratados para las siguientes finalidades :']"
      ]
     },
     "execution_count": 25,
     "metadata": {},
     "output_type": "execute_result"
    }
   ],
   "source": [
    "resumen_0_010"
   ]
  },
  {
   "cell_type": "code",
   "execution_count": 26,
   "metadata": {},
   "outputs": [
    {
     "data": {
      "text/plain": [
       "['LAS COMPAÑÍAS han identificado los datos que administran , así como las actividades que desarrollan con dichos datos , en particular su recepción , conservación , disposición para los fines propios del contrato y desarrollo de actividades complementarias referidas a la promoción y el mercadeo de sus productos y servicios , así como los ofrecidos por las Compañías que hacen parte del Grupo Bolívar , al cual éstas pertenecen y así lo han indicado en las Políticas del Tratamiento disponibles para su consulta en la página web www',\n",
       " 'com 1 - Tratamientos de los datos administrados por las compañías',\n",
       " 'com , ponemos a su disposición el presente Aviso de Privacidad que busca informar al Titular de datos personales acerca de la existencia de las Políticas de Tratamiento de información que han sido adoptadas por LAS COMPAÑÍAS , la forma de acceder a éstas y las características del Tratamiento que se le pretende dar a los datos',\n",
       " 'Acceder en forma gratuita a sus datos personales que hayan sido objeto de Tratamiento',\n",
       " 'Ser informado por el Responsable del Tratamiento o el Encargado del Tratamiento , previa solicitud , respecto del uso que le ha dado a sus datos personales']"
      ]
     },
     "execution_count": 26,
     "metadata": {},
     "output_type": "execute_result"
    }
   ],
   "source": [
    "resumen_0_005"
   ]
  },
  {
   "cell_type": "markdown",
   "metadata": {},
   "source": [
    "## Fase 8. Evaluar el resumen obtenido"
   ]
  },
  {
   "cell_type": "code",
   "execution_count": 31,
   "metadata": {},
   "outputs": [],
   "source": [
    "ruta_referencia = \"D:/Documents/Documentos Universidad/Noveno/Proyecto de grado/referencias\"\n",
    "\n",
    "referencia_bolivar = read_reference(ruta_referencia, 'segurosbolivar-privacidad.txt')\n",
    "resumen_0_025 = ' '.join(resumen_0_025)\n",
    "resumen_0_010 = ' '.join(resumen_0_010)\n",
    "resumen_0_005 = ' '.join(resumen_0_005)\n",
    "rouge = Rouge()"
   ]
  },
  {
   "cell_type": "code",
   "execution_count": 32,
   "metadata": {},
   "outputs": [
    {
     "data": {
      "text/plain": [
       "[{'rouge-1': {'f': 0.029723989273679162,\n",
       "   'p': 0.017045454545454544,\n",
       "   'r': 0.11602209944751381},\n",
       "  'rouge-2': {'f': 0.0, 'p': 0.0, 'r': 0.0},\n",
       "  'rouge-l': {'f': 0.05063290711344372,\n",
       "   'p': 0.08163265306122448,\n",
       "   'r': 0.03669724770642202}}]"
      ]
     },
     "execution_count": 32,
     "metadata": {},
     "output_type": "execute_result"
    }
   ],
   "source": [
    "rouge.get_scores(resumen_0_025, referencia_bolivar)"
   ]
  },
  {
   "cell_type": "code",
   "execution_count": 33,
   "metadata": {},
   "outputs": [
    {
     "data": {
      "text/plain": [
       "[{'rouge-1': {'f': 0.029595013154436297,\n",
       "   'p': 0.017225747960108794,\n",
       "   'r': 0.10497237569060773},\n",
       "  'rouge-2': {'f': 0.0, 'p': 0.0, 'r': 0.0},\n",
       "  'rouge-l': {'f': 0.05161289905182136,\n",
       "   'p': 0.08695652173913043,\n",
       "   'r': 0.03669724770642202}}]"
      ]
     },
     "execution_count": 33,
     "metadata": {},
     "output_type": "execute_result"
    }
   ],
   "source": [
    "rouge.get_scores(resumen_0_010, referencia_bolivar)"
   ]
  },
  {
   "cell_type": "code",
   "execution_count": 34,
   "metadata": {},
   "outputs": [
    {
     "data": {
      "text/plain": [
       "[{'rouge-1': {'f': 0.031249997351360782,\n",
       "   'p': 0.018537590113285273,\n",
       "   'r': 0.09944751381215469},\n",
       "  'rouge-2': {'f': 0.0, 'p': 0.0, 'r': 0.0},\n",
       "  'rouge-l': {'f': 0.05161289905182136,\n",
       "   'p': 0.08695652173913043,\n",
       "   'r': 0.03669724770642202}}]"
      ]
     },
     "execution_count": 34,
     "metadata": {},
     "output_type": "execute_result"
    }
   ],
   "source": [
    "rouge.get_scores(resumen_0_005, referencia_bolivar)"
   ]
  },
  {
   "cell_type": "markdown",
   "metadata": {},
   "source": [
    "## Pruebas\n",
    "En este espacio estan las celdas para realizar algunas pruebas, además de la gráfica que contiene los valores de -2lambda para un texto de pruebas (términos de privacidad  de seguros bolivar)"
   ]
  },
  {
   "cell_type": "code",
   "execution_count": 96,
   "metadata": {},
   "outputs": [],
   "source": [
    "tp = topic_signatures_bolivar.toarray().sum(1)\n",
    "df = pd.DataFrame(tp,columns = ['topic signature value'])\n",
    "df['sentence'] = frase2id_bolivar.keys()\n",
    "df = df.sort_values(by='topic signature value', ascending = False)\n",
    "#df"
   ]
  },
  {
   "cell_type": "code",
   "execution_count": 97,
   "metadata": {},
   "outputs": [],
   "source": [
    "x_axis = np.arange(0,log_likelihood.shape[1])\n",
    "y_axis = log_likelihood.tolist()[textos.index('segurosbolivar-privacidad.txt')]"
   ]
  },
  {
   "cell_type": "code",
   "execution_count": 98,
   "metadata": {},
   "outputs": [
    {
     "data": {
      "image/png": "[encoded data removed]",
      "text/plain": [
       "<Figure size 432x288 with 1 Axes>"
      ]
     },
     "metadata": {
      "needs_background": "light"
     },
     "output_type": "display_data"
    }
   ],
   "source": [
    "plt.bar(x_axis, y_axis, align='center', alpha=0.5)\n",
    "plt.ylabel(\"-2(lambda)\")\n",
    "plt.grid()\n",
    "plt.show()"
   ]
  },
  {
   "cell_type": "code",
   "execution_count": 101,
   "metadata": {},
   "outputs": [
    {
     "data": {
      "text/html": [
       "<div>\n",
       "<style scoped>\n",
       "    .dataframe tbody tr th:only-of-type {\n",
       "        vertical-align: middle;\n",
       "    }\n",
       "\n",
       "    .dataframe tbody tr th {\n",
       "        vertical-align: top;\n",
       "    }\n",
       "\n",
       "    .dataframe thead th {\n",
       "        text-align: right;\n",
       "    }\n",
       "</style>\n",
       "<table border=\"1\" class=\"dataframe\">\n",
       "  <thead>\n",
       "    <tr style=\"text-align: right;\">\n",
       "      <th></th>\n",
       "      <th>valor</th>\n",
       "      <th>token</th>\n",
       "    </tr>\n",
       "  </thead>\n",
       "  <tbody>\n",
       "    <tr>\n",
       "      <td>1176</td>\n",
       "      <td>-21.927381</td>\n",
       "      <td>dat</td>\n",
       "    </tr>\n",
       "    <tr>\n",
       "      <td>4443</td>\n",
       "      <td>-18.715980</td>\n",
       "      <td>tratamient</td>\n",
       "    </tr>\n",
       "    <tr>\n",
       "      <td>836</td>\n",
       "      <td>-18.122429</td>\n",
       "      <td>compañ</td>\n",
       "    </tr>\n",
       "    <tr>\n",
       "      <td>3267</td>\n",
       "      <td>-15.749891</td>\n",
       "      <td>personal</td>\n",
       "    </tr>\n",
       "    <tr>\n",
       "      <td>1923</td>\n",
       "      <td>-14.630646</td>\n",
       "      <td>final</td>\n",
       "    </tr>\n",
       "    <tr>\n",
       "      <td>537</td>\n",
       "      <td>-14.069663</td>\n",
       "      <td>boliv</td>\n",
       "    </tr>\n",
       "    <tr>\n",
       "      <td>2090</td>\n",
       "      <td>-13.572011</td>\n",
       "      <td>grup</td>\n",
       "    </tr>\n",
       "    <tr>\n",
       "      <td>2343</td>\n",
       "      <td>-13.307293</td>\n",
       "      <td>inform</td>\n",
       "    </tr>\n",
       "    <tr>\n",
       "      <td>75</td>\n",
       "      <td>-13.201412</td>\n",
       "      <td>activ</td>\n",
       "    </tr>\n",
       "    <tr>\n",
       "      <td>1270</td>\n",
       "      <td>-13.019640</td>\n",
       "      <td>desarroll</td>\n",
       "    </tr>\n",
       "  </tbody>\n",
       "</table>\n",
       "</div>"
      ],
      "text/plain": [
       "          valor       token\n",
       "1176 -21.927381         dat\n",
       "4443 -18.715980  tratamient\n",
       "836  -18.122429      compañ\n",
       "3267 -15.749891    personal\n",
       "1923 -14.630646       final\n",
       "537  -14.069663       boliv\n",
       "2090 -13.572011        grup\n",
       "2343 -13.307293      inform\n",
       "75   -13.201412       activ\n",
       "1270 -13.019640   desarroll"
      ]
     },
     "execution_count": 101,
     "metadata": {},
     "output_type": "execute_result"
    }
   ],
   "source": [
    "data = [[y_axis[i],id2token[i]] for i in range(len(y_axis))]\n",
    "df = pd.DataFrame(data,columns=['valor','token'])\n",
    "df = df.sort_values(by='valor', ascending = False).head(10)\n",
    "df"
   ]
  },
  {
   "cell_type": "code",
   "execution_count": 95,
   "metadata": {},
   "outputs": [
    {
     "data": {
      "text/plain": [
       "349"
      ]
     },
     "execution_count": 95,
     "metadata": {},
     "output_type": "execute_result"
    }
   ],
   "source": [
    "#bag_of_words.sum(0)[0,token2id['acced']]"
   ]
  },
  {
   "cell_type": "code",
   "execution_count": 67,
   "metadata": {},
   "outputs": [
    {
     "data": {
      "text/plain": [
       "349"
      ]
     },
     "execution_count": 67,
     "metadata": {},
     "output_type": "execute_result"
    }
   ],
   "source": [
    "#ocurrences[0,token2id['acced']]"
   ]
  },
  {
   "cell_type": "code",
   "execution_count": 69,
   "metadata": {},
   "outputs": [
    {
     "data": {
      "text/plain": [
       "146112"
      ]
     },
     "execution_count": 69,
     "metadata": {},
     "output_type": "execute_result"
    }
   ],
   "source": [
    "#bag_of_words.sum(1).sum(0)[0,0]"
   ]
  },
  {
   "cell_type": "code",
   "execution_count": 2,
   "metadata": {},
   "outputs": [
    {
     "data": {
      "text/plain": [
       "array([[0.        , 0.69314718, 1.09861229],\n",
       "       [1.38629436, 1.60943791, 1.79175947],\n",
       "       [1.94591015, 2.07944154, 2.19722458]])"
      ]
     },
     "execution_count": 2,
     "metadata": {},
     "output_type": "execute_result"
    }
   ],
   "source": [
    "np.log([[1,2,3],[4,5,6],[7,8,9]])"
   ]
  },
  {
   "cell_type": "markdown",
   "metadata": {},
   "source": [
    "### Dataframe con los distintos valores estimados"
   ]
  },
  {
   "cell_type": "code",
   "execution_count": 21,
   "metadata": {},
   "outputs": [
    {
     "data": {
      "text/html": [
       "<div>\n",
       "<style scoped>\n",
       "    .dataframe tbody tr th:only-of-type {\n",
       "        vertical-align: middle;\n",
       "    }\n",
       "\n",
       "    .dataframe tbody tr th {\n",
       "        vertical-align: top;\n",
       "    }\n",
       "\n",
       "    .dataframe thead th {\n",
       "        text-align: right;\n",
       "    }\n",
       "</style>\n",
       "<table border=\"1\" class=\"dataframe\">\n",
       "  <thead>\n",
       "    <tr style=\"text-align: right;\">\n",
       "      <th></th>\n",
       "      <th>token</th>\n",
       "      <th>lambda</th>\n",
       "      <th>log lambda</th>\n",
       "      <th>-2 lambda</th>\n",
       "      <th>-2 log lambda</th>\n",
       "    </tr>\n",
       "  </thead>\n",
       "  <tbody>\n",
       "    <tr>\n",
       "      <td>1176</td>\n",
       "      <td>dat</td>\n",
       "      <td>10.963690</td>\n",
       "      <td>2.394589</td>\n",
       "      <td>-21.927381</td>\n",
       "      <td>-4.789178</td>\n",
       "    </tr>\n",
       "    <tr>\n",
       "      <td>4443</td>\n",
       "      <td>tratamient</td>\n",
       "      <td>9.357990</td>\n",
       "      <td>2.236231</td>\n",
       "      <td>-18.715980</td>\n",
       "      <td>-4.472461</td>\n",
       "    </tr>\n",
       "    <tr>\n",
       "      <td>836</td>\n",
       "      <td>compañ</td>\n",
       "      <td>9.061214</td>\n",
       "      <td>2.204003</td>\n",
       "      <td>-18.122429</td>\n",
       "      <td>-4.408006</td>\n",
       "    </tr>\n",
       "    <tr>\n",
       "      <td>3267</td>\n",
       "      <td>personal</td>\n",
       "      <td>7.874946</td>\n",
       "      <td>2.063686</td>\n",
       "      <td>-15.749891</td>\n",
       "      <td>-4.127373</td>\n",
       "    </tr>\n",
       "    <tr>\n",
       "      <td>1923</td>\n",
       "      <td>final</td>\n",
       "      <td>7.315323</td>\n",
       "      <td>1.989971</td>\n",
       "      <td>-14.630646</td>\n",
       "      <td>-3.979942</td>\n",
       "    </tr>\n",
       "    <tr>\n",
       "      <td>537</td>\n",
       "      <td>boliv</td>\n",
       "      <td>7.034832</td>\n",
       "      <td>1.950874</td>\n",
       "      <td>-14.069663</td>\n",
       "      <td>-3.901748</td>\n",
       "    </tr>\n",
       "    <tr>\n",
       "      <td>2090</td>\n",
       "      <td>grup</td>\n",
       "      <td>6.786006</td>\n",
       "      <td>1.914863</td>\n",
       "      <td>-13.572011</td>\n",
       "      <td>-3.829725</td>\n",
       "    </tr>\n",
       "    <tr>\n",
       "      <td>2343</td>\n",
       "      <td>inform</td>\n",
       "      <td>6.653647</td>\n",
       "      <td>1.895165</td>\n",
       "      <td>-13.307293</td>\n",
       "      <td>-3.790330</td>\n",
       "    </tr>\n",
       "    <tr>\n",
       "      <td>75</td>\n",
       "      <td>activ</td>\n",
       "      <td>6.600706</td>\n",
       "      <td>1.887177</td>\n",
       "      <td>-13.201412</td>\n",
       "      <td>-3.774353</td>\n",
       "    </tr>\n",
       "    <tr>\n",
       "      <td>1270</td>\n",
       "      <td>desarroll</td>\n",
       "      <td>6.509820</td>\n",
       "      <td>1.873312</td>\n",
       "      <td>-13.019640</td>\n",
       "      <td>-3.746624</td>\n",
       "    </tr>\n",
       "    <tr>\n",
       "      <td>2113</td>\n",
       "      <td>hac</td>\n",
       "      <td>6.152249</td>\n",
       "      <td>1.816818</td>\n",
       "      <td>-12.304497</td>\n",
       "      <td>-3.633635</td>\n",
       "    </tr>\n",
       "    <tr>\n",
       "      <td>3446</td>\n",
       "      <td>previst</td>\n",
       "      <td>6.054509</td>\n",
       "      <td>1.800803</td>\n",
       "      <td>-12.109018</td>\n",
       "      <td>-3.601607</td>\n",
       "    </tr>\n",
       "    <tr>\n",
       "      <td>3337</td>\n",
       "      <td>polit</td>\n",
       "      <td>5.646365</td>\n",
       "      <td>1.731012</td>\n",
       "      <td>-11.292730</td>\n",
       "      <td>-3.462024</td>\n",
       "    </tr>\n",
       "    <tr>\n",
       "      <td>3459</td>\n",
       "      <td>privac</td>\n",
       "      <td>5.644278</td>\n",
       "      <td>1.730642</td>\n",
       "      <td>-11.288557</td>\n",
       "      <td>-3.461285</td>\n",
       "    </tr>\n",
       "    <tr>\n",
       "      <td>981</td>\n",
       "      <td>contact</td>\n",
       "      <td>5.628242</td>\n",
       "      <td>1.727797</td>\n",
       "      <td>-11.256485</td>\n",
       "      <td>-3.455594</td>\n",
       "    </tr>\n",
       "    <tr>\n",
       "      <td>4024</td>\n",
       "      <td>servici</td>\n",
       "      <td>5.094541</td>\n",
       "      <td>1.628170</td>\n",
       "      <td>-10.189082</td>\n",
       "      <td>-3.256339</td>\n",
       "    </tr>\n",
       "    <tr>\n",
       "      <td>1256</td>\n",
       "      <td>derech</td>\n",
       "      <td>5.089657</td>\n",
       "      <td>1.627210</td>\n",
       "      <td>-10.179314</td>\n",
       "      <td>-3.254421</td>\n",
       "    </tr>\n",
       "    <tr>\n",
       "      <td>3481</td>\n",
       "      <td>product</td>\n",
       "      <td>5.084423</td>\n",
       "      <td>1.626182</td>\n",
       "      <td>-10.168846</td>\n",
       "      <td>-3.252363</td>\n",
       "    </tr>\n",
       "    <tr>\n",
       "      <td>3830</td>\n",
       "      <td>respons</td>\n",
       "      <td>5.082251</td>\n",
       "      <td>1.625754</td>\n",
       "      <td>-10.164502</td>\n",
       "      <td>-3.251509</td>\n",
       "    </tr>\n",
       "    <tr>\n",
       "      <td>2636</td>\n",
       "      <td>ley</td>\n",
       "      <td>5.078422</td>\n",
       "      <td>1.625000</td>\n",
       "      <td>-10.156843</td>\n",
       "      <td>-3.250001</td>\n",
       "    </tr>\n",
       "  </tbody>\n",
       "</table>\n",
       "</div>"
      ],
      "text/plain": [
       "           token     lambda  log lambda  -2 lambda  -2 log lambda\n",
       "1176         dat  10.963690    2.394589 -21.927381      -4.789178\n",
       "4443  tratamient   9.357990    2.236231 -18.715980      -4.472461\n",
       "836       compañ   9.061214    2.204003 -18.122429      -4.408006\n",
       "3267    personal   7.874946    2.063686 -15.749891      -4.127373\n",
       "1923       final   7.315323    1.989971 -14.630646      -3.979942\n",
       "537        boliv   7.034832    1.950874 -14.069663      -3.901748\n",
       "2090        grup   6.786006    1.914863 -13.572011      -3.829725\n",
       "2343      inform   6.653647    1.895165 -13.307293      -3.790330\n",
       "75         activ   6.600706    1.887177 -13.201412      -3.774353\n",
       "1270   desarroll   6.509820    1.873312 -13.019640      -3.746624\n",
       "2113         hac   6.152249    1.816818 -12.304497      -3.633635\n",
       "3446     previst   6.054509    1.800803 -12.109018      -3.601607\n",
       "3337       polit   5.646365    1.731012 -11.292730      -3.462024\n",
       "3459      privac   5.644278    1.730642 -11.288557      -3.461285\n",
       "981      contact   5.628242    1.727797 -11.256485      -3.455594\n",
       "4024     servici   5.094541    1.628170 -10.189082      -3.256339\n",
       "1256      derech   5.089657    1.627210 -10.179314      -3.254421\n",
       "3481     product   5.084423    1.626182 -10.168846      -3.252363\n",
       "3830     respons   5.082251    1.625754 -10.164502      -3.251509\n",
       "2636         ley   5.078422    1.625000 -10.156843      -3.250001"
      ]
     },
     "execution_count": 21,
     "metadata": {},
     "output_type": "execute_result"
    }
   ],
   "source": [
    "#Lista de textos dentro del corpus\n",
    "textos = os.listdir(ruta)\n",
    "\n",
    "lambda_bolivar = lambda_matrix.tolist()[textos.index('segurosbolivar-privacidad.txt')]\n",
    "lambda_log_bolivar = lambda_log_matrix.tolist()[textos.index('segurosbolivar-privacidad.txt')]\n",
    "lambda_bolivar_2 = lambda_matrix_2.tolist()[textos.index('segurosbolivar-privacidad.txt')]\n",
    "lambda_log_bolivar_2 = lambda_log_matrix_2.tolist()[textos.index('segurosbolivar-privacidad.txt')]\n",
    "\n",
    "\n",
    "data = [[id2token[i],lambda_bolivar[i],lambda_log_bolivar[i],\n",
    "         lambda_bolivar_2[i],lambda_log_bolivar_2[i]] for i in range(len(lambda_bolivar))]\n",
    "\n",
    "df = pd.DataFrame(data,columns=['token','lambda','log lambda','-2 lambda','-2 log lambda'])\n",
    "df_top = df.sort_values(by='lambda', ascending = False).head(20)\n",
    "df_top"
   ]
  },
  {
   "cell_type": "code",
   "execution_count": 23,
   "metadata": {},
   "outputs": [
    {
     "data": {
      "text/html": [
       "<div>\n",
       "<style scoped>\n",
       "    .dataframe tbody tr th:only-of-type {\n",
       "        vertical-align: middle;\n",
       "    }\n",
       "\n",
       "    .dataframe tbody tr th {\n",
       "        vertical-align: top;\n",
       "    }\n",
       "\n",
       "    .dataframe thead th {\n",
       "        text-align: right;\n",
       "    }\n",
       "</style>\n",
       "<table border=\"1\" class=\"dataframe\">\n",
       "  <thead>\n",
       "    <tr style=\"text-align: right;\">\n",
       "      <th></th>\n",
       "      <th>token</th>\n",
       "      <th>lambda</th>\n",
       "      <th>log lambda</th>\n",
       "      <th>-2 lambda</th>\n",
       "      <th>-2 log lambda</th>\n",
       "    </tr>\n",
       "  </thead>\n",
       "  <tbody>\n",
       "    <tr>\n",
       "      <td>2654</td>\n",
       "      <td>lider</td>\n",
       "      <td>0.998972</td>\n",
       "      <td>-0.001028</td>\n",
       "      <td>-1.997945</td>\n",
       "      <td>0.002056</td>\n",
       "    </tr>\n",
       "    <tr>\n",
       "      <td>2091</td>\n",
       "      <td>grupoboliv</td>\n",
       "      <td>0.998972</td>\n",
       "      <td>-0.001028</td>\n",
       "      <td>-1.997945</td>\n",
       "      <td>0.002056</td>\n",
       "    </tr>\n",
       "    <tr>\n",
       "      <td>989</td>\n",
       "      <td>conten</td>\n",
       "      <td>0.999985</td>\n",
       "      <td>-0.000015</td>\n",
       "      <td>-1.999971</td>\n",
       "      <td>0.000029</td>\n",
       "    </tr>\n",
       "    <tr>\n",
       "      <td>1136</td>\n",
       "      <td>cuent</td>\n",
       "      <td>0.999986</td>\n",
       "      <td>-0.000014</td>\n",
       "      <td>-1.999973</td>\n",
       "      <td>0.000027</td>\n",
       "    </tr>\n",
       "    <tr>\n",
       "      <td>286</td>\n",
       "      <td>aplic</td>\n",
       "      <td>0.999987</td>\n",
       "      <td>-0.000013</td>\n",
       "      <td>-1.999974</td>\n",
       "      <td>0.000026</td>\n",
       "    </tr>\n",
       "    <tr>\n",
       "      <td>904</td>\n",
       "      <td>condicion</td>\n",
       "      <td>0.999988</td>\n",
       "      <td>-0.000012</td>\n",
       "      <td>-1.999975</td>\n",
       "      <td>0.000025</td>\n",
       "    </tr>\n",
       "    <tr>\n",
       "      <td>4547</td>\n",
       "      <td>utiliz</td>\n",
       "      <td>0.999990</td>\n",
       "      <td>-0.000010</td>\n",
       "      <td>-1.999980</td>\n",
       "      <td>0.000020</td>\n",
       "    </tr>\n",
       "    <tr>\n",
       "      <td>2269</td>\n",
       "      <td>inclu</td>\n",
       "      <td>0.999990</td>\n",
       "      <td>-0.000010</td>\n",
       "      <td>-1.999980</td>\n",
       "      <td>0.000020</td>\n",
       "    </tr>\n",
       "    <tr>\n",
       "      <td>4087</td>\n",
       "      <td>siti</td>\n",
       "      <td>0.999990</td>\n",
       "      <td>-0.000010</td>\n",
       "      <td>-1.999981</td>\n",
       "      <td>0.000019</td>\n",
       "    </tr>\n",
       "    <tr>\n",
       "      <td>4334</td>\n",
       "      <td>tercer</td>\n",
       "      <td>0.999991</td>\n",
       "      <td>-0.000009</td>\n",
       "      <td>-1.999982</td>\n",
       "      <td>0.000018</td>\n",
       "    </tr>\n",
       "    <tr>\n",
       "      <td>1185</td>\n",
       "      <td>deb</td>\n",
       "      <td>0.999991</td>\n",
       "      <td>-0.000009</td>\n",
       "      <td>-1.999983</td>\n",
       "      <td>0.000017</td>\n",
       "    </tr>\n",
       "    <tr>\n",
       "      <td>3565</td>\n",
       "      <td>public</td>\n",
       "      <td>0.999992</td>\n",
       "      <td>-0.000008</td>\n",
       "      <td>-1.999983</td>\n",
       "      <td>0.000017</td>\n",
       "    </tr>\n",
       "    <tr>\n",
       "      <td>1209</td>\n",
       "      <td>deez</td>\n",
       "      <td>0.999992</td>\n",
       "      <td>-0.000008</td>\n",
       "      <td>-1.999984</td>\n",
       "      <td>0.000016</td>\n",
       "    </tr>\n",
       "    <tr>\n",
       "      <td>3154</td>\n",
       "      <td>pag</td>\n",
       "      <td>0.999992</td>\n",
       "      <td>-0.000008</td>\n",
       "      <td>-1.999984</td>\n",
       "      <td>0.000016</td>\n",
       "    </tr>\n",
       "    <tr>\n",
       "      <td>4337</td>\n",
       "      <td>termin</td>\n",
       "      <td>0.999992</td>\n",
       "      <td>-0.000008</td>\n",
       "      <td>-1.999984</td>\n",
       "      <td>0.000016</td>\n",
       "    </tr>\n",
       "    <tr>\n",
       "      <td>51</td>\n",
       "      <td>acept</td>\n",
       "      <td>0.999993</td>\n",
       "      <td>-0.000007</td>\n",
       "      <td>-1.999986</td>\n",
       "      <td>0.000014</td>\n",
       "    </tr>\n",
       "    <tr>\n",
       "      <td>3520</td>\n",
       "      <td>proporcion</td>\n",
       "      <td>0.999994</td>\n",
       "      <td>-0.000006</td>\n",
       "      <td>-1.999988</td>\n",
       "      <td>0.000012</td>\n",
       "    </tr>\n",
       "    <tr>\n",
       "      <td>2968</td>\n",
       "      <td>ningun</td>\n",
       "      <td>0.999994</td>\n",
       "      <td>-0.000006</td>\n",
       "      <td>-1.999989</td>\n",
       "      <td>0.000011</td>\n",
       "    </tr>\n",
       "    <tr>\n",
       "      <td>39</td>\n",
       "      <td>acces</td>\n",
       "      <td>0.999994</td>\n",
       "      <td>-0.000006</td>\n",
       "      <td>-1.999989</td>\n",
       "      <td>0.000011</td>\n",
       "    </tr>\n",
       "    <tr>\n",
       "      <td>429</td>\n",
       "      <td>autor</td>\n",
       "      <td>0.999994</td>\n",
       "      <td>-0.000006</td>\n",
       "      <td>-1.999989</td>\n",
       "      <td>0.000011</td>\n",
       "    </tr>\n",
       "  </tbody>\n",
       "</table>\n",
       "</div>"
      ],
      "text/plain": [
       "           token    lambda  log lambda  -2 lambda  -2 log lambda\n",
       "2654       lider  0.998972   -0.001028  -1.997945       0.002056\n",
       "2091  grupoboliv  0.998972   -0.001028  -1.997945       0.002056\n",
       "989       conten  0.999985   -0.000015  -1.999971       0.000029\n",
       "1136       cuent  0.999986   -0.000014  -1.999973       0.000027\n",
       "286        aplic  0.999987   -0.000013  -1.999974       0.000026\n",
       "904    condicion  0.999988   -0.000012  -1.999975       0.000025\n",
       "4547      utiliz  0.999990   -0.000010  -1.999980       0.000020\n",
       "2269       inclu  0.999990   -0.000010  -1.999980       0.000020\n",
       "4087        siti  0.999990   -0.000010  -1.999981       0.000019\n",
       "4334      tercer  0.999991   -0.000009  -1.999982       0.000018\n",
       "1185         deb  0.999991   -0.000009  -1.999983       0.000017\n",
       "3565      public  0.999992   -0.000008  -1.999983       0.000017\n",
       "1209        deez  0.999992   -0.000008  -1.999984       0.000016\n",
       "3154         pag  0.999992   -0.000008  -1.999984       0.000016\n",
       "4337      termin  0.999992   -0.000008  -1.999984       0.000016\n",
       "51         acept  0.999993   -0.000007  -1.999986       0.000014\n",
       "3520  proporcion  0.999994   -0.000006  -1.999988       0.000012\n",
       "2968      ningun  0.999994   -0.000006  -1.999989       0.000011\n",
       "39         acces  0.999994   -0.000006  -1.999989       0.000011\n",
       "429        autor  0.999994   -0.000006  -1.999989       0.000011"
      ]
     },
     "execution_count": 23,
     "metadata": {},
     "output_type": "execute_result"
    }
   ],
   "source": [
    "df_bottom = df.sort_values(by='lambda', ascending = True).head(20)\n",
    "df_bottom"
   ]
  },
  {
   "cell_type": "code",
   "execution_count": 14,
   "metadata": {},
   "outputs": [
    {
     "data": {
      "text/plain": [
       "5.627808712130095"
      ]
     },
     "execution_count": 14,
     "metadata": {},
     "output_type": "execute_result"
    }
   ],
   "source": [
    "chi2.pdf(0.005,1)"
   ]
  },
  {
   "cell_type": "code",
   "execution_count": 2,
   "metadata": {},
   "outputs": [
    {
     "data": {
      "text/plain": [
       "1.7400739347725862"
      ]
     },
     "execution_count": 2,
     "metadata": {},
     "output_type": "execute_result"
    }
   ],
   "source": [
    "chi2.pdf(0.05,1)"
   ]
  },
  {
   "cell_type": "code",
   "execution_count": 3,
   "metadata": {},
   "outputs": [
    {
     "data": {
      "text/plain": [
       "12.60935635549078"
      ]
     },
     "execution_count": 3,
     "metadata": {},
     "output_type": "execute_result"
    }
   ],
   "source": [
    "chi2.pdf(0.001,1)"
   ]
  },
  {
   "cell_type": "code",
   "execution_count": null,
   "metadata": {},
   "outputs": [],
   "source": []
  }
 ],
 "metadata": {
  "kernelspec": {
   "display_name": "Python 3",
   "language": "python",
   "name": "python3"
  },
  "language_info": {
   "codemirror_mode": {
    "name": "ipython",
    "version": 3
   },
   "file_extension": ".py",
   "mimetype": "text/x-python",
   "name": "python",
   "nbconvert_exporter": "python",
   "pygments_lexer": "ipython3",
   "version": "3.7.4"
  }
 },
 "nbformat": 4,
 "nbformat_minor": 4
}
